{
 "cells": [
  {
   "cell_type": "code",
   "execution_count": 60,
   "id": "8feb85e3",
   "metadata": {
    "execution": {
     "iopub.execute_input": "2023-03-27T05:53:36.605191Z",
     "iopub.status.busy": "2023-03-27T05:53:36.603766Z",
     "iopub.status.idle": "2023-03-27T05:53:37.760541Z",
     "shell.execute_reply": "2023-03-27T05:53:37.758830Z"
    },
    "id": "8feb85e3",
    "papermill": {
     "duration": 1.170949,
     "end_time": "2023-03-27T05:53:37.763164",
     "exception": false,
     "start_time": "2023-03-27T05:53:36.592215",
     "status": "completed"
    },
    "tags": []
   },
   "outputs": [],
   "source": [
    "import pandas as pd\n",
    "import numpy as np\n",
    "import re\n",
    "import math\n",
    "import matplotlib.pyplot as plt\n",
    "import seaborn as sns\n",
    "\n",
    "%matplotlib inline"
   ]
  },
  {
   "cell_type": "markdown",
   "id": "5341b0eb",
   "metadata": {
    "id": "5341b0eb",
    "papermill": {
     "duration": 0.0087,
     "end_time": "2023-03-27T05:53:37.780874",
     "exception": false,
     "start_time": "2023-03-27T05:53:37.772174",
     "status": "completed"
    },
    "tags": []
   },
   "source": [
    "## load movie data"
   ]
  },
  {
   "cell_type": "code",
   "execution_count": 61,
   "id": "2eed7717",
   "metadata": {
    "execution": {
     "iopub.execute_input": "2023-03-27T05:53:37.800302Z",
     "iopub.status.busy": "2023-03-27T05:53:37.799968Z",
     "iopub.status.idle": "2023-03-27T05:53:38.101932Z",
     "shell.execute_reply": "2023-03-27T05:53:38.099966Z"
    },
    "id": "2eed7717",
    "papermill": {
     "duration": 0.314678,
     "end_time": "2023-03-27T05:53:38.104566",
     "exception": false,
     "start_time": "2023-03-27T05:53:37.789888",
     "status": "completed"
    },
    "tags": []
   },
   "outputs": [],
   "source": [
    "org_data = pd.read_csv('/content/sample_data/movies_dataset.csv')"
   ]
  },
  {
   "cell_type": "markdown",
   "id": "bd1fd26d",
   "metadata": {
    "id": "bd1fd26d",
    "papermill": {
     "duration": 0.009717,
     "end_time": "2023-03-27T05:53:38.123408",
     "exception": false,
     "start_time": "2023-03-27T05:53:38.113691",
     "status": "completed"
    },
    "tags": []
   },
   "source": [
    "## 数据摘要\n",
    "### 标称数据： appropriate_for, director, industry, language, storyline, title, id and writer\n",
    "### 其中有意义的： appropriate_for, director, industry, language and writer\n",
    "### storyline, title, id 三者几乎是unique 但数据存在问题,存在部分重复样本\n",
    "### 数值数据： imdb_rating, downloads, posted_date, release_date, run_time, views\n",
    "### 都具有一定意义"
   ]
  },
  {
   "cell_type": "code",
   "execution_count": 62,
   "id": "6c1abf21",
   "metadata": {
    "execution": {
     "iopub.execute_input": "2023-03-27T05:53:38.143864Z",
     "iopub.status.busy": "2023-03-27T05:53:38.142544Z",
     "iopub.status.idle": "2023-03-27T05:53:39.047344Z",
     "shell.execute_reply": "2023-03-27T05:53:39.046196Z"
    },
    "id": "6c1abf21",
    "papermill": {
     "duration": 0.917257,
     "end_time": "2023-03-27T05:53:39.049584",
     "exception": false,
     "start_time": "2023-03-27T05:53:38.132327",
     "status": "completed"
    },
    "tags": []
   },
   "outputs": [],
   "source": [
    "nominals = ['appropriate_for', 'director',  'industry', 'language', 'writer']\n",
    "numerics = ['imdb_rating', 'downloads', 'posted_date', 'release_date', 'run_time', 'views']\n",
    "# drop first col\n",
    "data = org_data.drop(columns='Unnamed: 0')\n",
    "# Convert column names into snake_case.\n",
    "data.columns = data.columns.str.replace('-', '_').str.lower()\n",
    "\n",
    "# Make views and dowloads numeric.\n",
    "for col in 'downloads', 'views':\n",
    "    data[col] = data[col].str.replace(',','')\n",
    "    data[col] = data[col].astype('float')\n",
    "# Make id strings.\n",
    "data['id'] = data['id'].astype('str')\n",
    "# Output formte\n",
    "pd.options.display.float_format = '{:.2f}'.format\n",
    "def run_time_process(e):\n",
    "    e = str(e).replace(' ', '')\n",
    "    if e == 'nan':\n",
    "        return np.nan\n",
    "    if 'h' not in e and 'min' not in e:\n",
    "        return int(e)\n",
    "    else:\n",
    "        hour = 0\n",
    "        minute = 0\n",
    "        if 'h' in e:\n",
    "            hour = int(e.split('h')[0])\n",
    "        if 'min' in e:\n",
    "            minute = int(e.split('min')[0].split('h')[-1])\n",
    "        return int(hour * 60 + minute)\n",
    "## Run time process\n",
    "# Convert '1h20min' format to minutes\n",
    "data['run_time'] = data['run_time'].apply(run_time_process)\n",
    "# Convert '102' format to minutes\n",
    "data['run_time'] = pd.to_numeric(data['run_time'], errors='coerce').fillna(np.nan)\n",
    "# Make dates datetime.\n",
    "data['old_posted_date'] = data['posted_date']\n",
    "data['posted_date'] = pd.to_datetime(data['posted_date'])\n",
    "\n",
    "data['old_release_date'] = data['release_date']\n",
    "data['release_date'] = pd.to_datetime(data['release_date'])"
   ]
  },
  {
   "cell_type": "code",
   "execution_count": 63,
   "id": "aL8BILMlDSUK",
   "metadata": {
    "colab": {
     "base_uri": "https://localhost:8080/",
     "height": 1165
    },
    "id": "aL8BILMlDSUK",
    "outputId": "b0454acf-ac8a-4a31-98aa-37937d1976de"
   },
   "outputs": [
    {
     "data": {
      "text/html": [
       "\n",
       "  <div id=\"df-82ed9914-4174-455b-aa7f-cde1d77e76f9\">\n",
       "    <div class=\"colab-df-container\">\n",
       "      <div>\n",
       "<style scoped>\n",
       "    .dataframe tbody tr th:only-of-type {\n",
       "        vertical-align: middle;\n",
       "    }\n",
       "\n",
       "    .dataframe tbody tr th {\n",
       "        vertical-align: top;\n",
       "    }\n",
       "\n",
       "    .dataframe thead th {\n",
       "        text-align: right;\n",
       "    }\n",
       "</style>\n",
       "<table border=\"1\" class=\"dataframe\">\n",
       "  <thead>\n",
       "    <tr style=\"text-align: right;\">\n",
       "      <th></th>\n",
       "      <th>imdb_rating</th>\n",
       "      <th>appropriate_for</th>\n",
       "      <th>director</th>\n",
       "      <th>downloads</th>\n",
       "      <th>id</th>\n",
       "      <th>industry</th>\n",
       "      <th>language</th>\n",
       "      <th>posted_date</th>\n",
       "      <th>release_date</th>\n",
       "      <th>run_time</th>\n",
       "      <th>storyline</th>\n",
       "      <th>title</th>\n",
       "      <th>views</th>\n",
       "      <th>writer</th>\n",
       "      <th>old_posted_date</th>\n",
       "      <th>old_release_date</th>\n",
       "    </tr>\n",
       "  </thead>\n",
       "  <tbody>\n",
       "    <tr>\n",
       "      <th>0</th>\n",
       "      <td>4.80</td>\n",
       "      <td>R</td>\n",
       "      <td>John Swab</td>\n",
       "      <td>304.00</td>\n",
       "      <td>372092</td>\n",
       "      <td>Hollywood / English</td>\n",
       "      <td>English</td>\n",
       "      <td>2023-02-20</td>\n",
       "      <td>2023-01-28</td>\n",
       "      <td>105.00</td>\n",
       "      <td>Doc\\r\\n facilitates a fragile truce between th...</td>\n",
       "      <td>Little Dixie</td>\n",
       "      <td>2794.00</td>\n",
       "      <td>John Swab</td>\n",
       "      <td>20 Feb, 2023</td>\n",
       "      <td>Jan 28 2023</td>\n",
       "    </tr>\n",
       "    <tr>\n",
       "      <th>1</th>\n",
       "      <td>6.40</td>\n",
       "      <td>TV-PG</td>\n",
       "      <td>Paul Ziller</td>\n",
       "      <td>73.00</td>\n",
       "      <td>372091</td>\n",
       "      <td>Hollywood / English</td>\n",
       "      <td>English</td>\n",
       "      <td>2023-02-20</td>\n",
       "      <td>2023-02-05</td>\n",
       "      <td>84.00</td>\n",
       "      <td>Caterer\\r\\n Goldy Berry reunites with detectiv...</td>\n",
       "      <td>Grilling Season: A Curious Caterer Mystery</td>\n",
       "      <td>1002.00</td>\n",
       "      <td>John Christian Plummer</td>\n",
       "      <td>20 Feb, 2023</td>\n",
       "      <td>Feb 05 2023</td>\n",
       "    </tr>\n",
       "    <tr>\n",
       "      <th>2</th>\n",
       "      <td>5.20</td>\n",
       "      <td>R</td>\n",
       "      <td>Ben Wheatley</td>\n",
       "      <td>1427.00</td>\n",
       "      <td>343381</td>\n",
       "      <td>Hollywood / English</td>\n",
       "      <td>English,Hindi</td>\n",
       "      <td>2021-04-20</td>\n",
       "      <td>2021-06-18</td>\n",
       "      <td>107.00</td>\n",
       "      <td>As the world searches for a cure to a disastro...</td>\n",
       "      <td>In the Earth</td>\n",
       "      <td>14419.00</td>\n",
       "      <td>Ben Wheatley</td>\n",
       "      <td>20 Apr, 2021</td>\n",
       "      <td>Jun 18 2021</td>\n",
       "    </tr>\n",
       "    <tr>\n",
       "      <th>3</th>\n",
       "      <td>8.10</td>\n",
       "      <td>NaN</td>\n",
       "      <td>Venky Atluri</td>\n",
       "      <td>1549.00</td>\n",
       "      <td>372090</td>\n",
       "      <td>Tollywood</td>\n",
       "      <td>Hindi</td>\n",
       "      <td>2023-02-20</td>\n",
       "      <td>2023-02-17</td>\n",
       "      <td>139.00</td>\n",
       "      <td>The life of a young man and his struggles agai...</td>\n",
       "      <td>Vaathi</td>\n",
       "      <td>4878.00</td>\n",
       "      <td>Venky Atluri</td>\n",
       "      <td>20 Feb, 2023</td>\n",
       "      <td>Feb 17 2023</td>\n",
       "    </tr>\n",
       "    <tr>\n",
       "      <th>4</th>\n",
       "      <td>4.60</td>\n",
       "      <td>NaN</td>\n",
       "      <td>Shaji Kailas</td>\n",
       "      <td>657.00</td>\n",
       "      <td>372089</td>\n",
       "      <td>Tollywood</td>\n",
       "      <td>Hindi</td>\n",
       "      <td>2023-02-20</td>\n",
       "      <td>2023-01-26</td>\n",
       "      <td>122.00</td>\n",
       "      <td>A man named Kalidas gets stranded due to the p...</td>\n",
       "      <td>Alone</td>\n",
       "      <td>2438.00</td>\n",
       "      <td>Rajesh Jayaraman</td>\n",
       "      <td>20 Feb, 2023</td>\n",
       "      <td>Jan 26 2023</td>\n",
       "    </tr>\n",
       "    <tr>\n",
       "      <th>...</th>\n",
       "      <td>...</td>\n",
       "      <td>...</td>\n",
       "      <td>...</td>\n",
       "      <td>...</td>\n",
       "      <td>...</td>\n",
       "      <td>...</td>\n",
       "      <td>...</td>\n",
       "      <td>...</td>\n",
       "      <td>...</td>\n",
       "      <td>...</td>\n",
       "      <td>...</td>\n",
       "      <td>...</td>\n",
       "      <td>...</td>\n",
       "      <td>...</td>\n",
       "      <td>...</td>\n",
       "      <td>...</td>\n",
       "    </tr>\n",
       "    <tr>\n",
       "      <th>20543</th>\n",
       "      <td>NaN</td>\n",
       "      <td>NaN</td>\n",
       "      <td>NaN</td>\n",
       "      <td>1998.00</td>\n",
       "      <td>28957</td>\n",
       "      <td>Bollywood / Indian</td>\n",
       "      <td>Hindi</td>\n",
       "      <td>1970-01-01</td>\n",
       "      <td>1959-03-13</td>\n",
       "      <td>NaN</td>\n",
       "      <td>NaN</td>\n",
       "      <td>Bhai-Bahen</td>\n",
       "      <td>6219.00</td>\n",
       "      <td>NaN</td>\n",
       "      <td>01 Jan, 1970</td>\n",
       "      <td>Mar 13 1959</td>\n",
       "    </tr>\n",
       "    <tr>\n",
       "      <th>20544</th>\n",
       "      <td>7.70</td>\n",
       "      <td>NaN</td>\n",
       "      <td>Bimal Roy</td>\n",
       "      <td>6080.00</td>\n",
       "      <td>28958</td>\n",
       "      <td>Bollywood / Indian</td>\n",
       "      <td>Hindi</td>\n",
       "      <td>1970-01-01</td>\n",
       "      <td>1955-05-13</td>\n",
       "      <td>159.00</td>\n",
       "      <td>Devdas and Parvati had been inseparable as chi...</td>\n",
       "      <td>Devdas</td>\n",
       "      <td>16376.00</td>\n",
       "      <td>Rajinder Singh Bedi, Saratchandra Chatterjee, ...</td>\n",
       "      <td>01 Jan, 1970</td>\n",
       "      <td>May 13 1955</td>\n",
       "    </tr>\n",
       "    <tr>\n",
       "      <th>20545</th>\n",
       "      <td>8.00</td>\n",
       "      <td>NaN</td>\n",
       "      <td>NaN</td>\n",
       "      <td>3276.00</td>\n",
       "      <td>30459</td>\n",
       "      <td>Bollywood / Indian</td>\n",
       "      <td>Hindi</td>\n",
       "      <td>1970-01-01</td>\n",
       "      <td>1958-03-28</td>\n",
       "      <td>110.00</td>\n",
       "      <td>While driving his car on a rainy night, Anand'...</td>\n",
       "      <td>Madhumati</td>\n",
       "      <td>7220.00</td>\n",
       "      <td>NaN</td>\n",
       "      <td>01 Jan, 1970</td>\n",
       "      <td>Mar 28 1958</td>\n",
       "    </tr>\n",
       "    <tr>\n",
       "      <th>20546</th>\n",
       "      <td>NaN</td>\n",
       "      <td>NaN</td>\n",
       "      <td>NaN</td>\n",
       "      <td>309.00</td>\n",
       "      <td>371669</td>\n",
       "      <td>Wrestling</td>\n",
       "      <td>English</td>\n",
       "      <td>2023-02-10</td>\n",
       "      <td>2023-02-09</td>\n",
       "      <td>NaN</td>\n",
       "      <td>NaN</td>\n",
       "      <td>TNA.Impact 2023-02-09</td>\n",
       "      <td>1419.00</td>\n",
       "      <td>NaN</td>\n",
       "      <td>10 Feb, 2023</td>\n",
       "      <td>Feb 09 2023</td>\n",
       "    </tr>\n",
       "    <tr>\n",
       "      <th>20547</th>\n",
       "      <td>NaN</td>\n",
       "      <td>NaN</td>\n",
       "      <td>NaN</td>\n",
       "      <td>2613.00</td>\n",
       "      <td>371816</td>\n",
       "      <td>Wrestling</td>\n",
       "      <td>English</td>\n",
       "      <td>2023-02-14</td>\n",
       "      <td>2023-02-13</td>\n",
       "      <td>NaN</td>\n",
       "      <td>NaN</td>\n",
       "      <td>WWE Raw 2023-02-13</td>\n",
       "      <td>6697.00</td>\n",
       "      <td>NaN</td>\n",
       "      <td>14 Feb, 2023</td>\n",
       "      <td>Feb 13 2023</td>\n",
       "    </tr>\n",
       "  </tbody>\n",
       "</table>\n",
       "<p>20548 rows × 16 columns</p>\n",
       "</div>\n",
       "      <button class=\"colab-df-convert\" onclick=\"convertToInteractive('df-82ed9914-4174-455b-aa7f-cde1d77e76f9')\"\n",
       "              title=\"Convert this dataframe to an interactive table.\"\n",
       "              style=\"display:none;\">\n",
       "        \n",
       "  <svg xmlns=\"http://www.w3.org/2000/svg\" height=\"24px\"viewBox=\"0 0 24 24\"\n",
       "       width=\"24px\">\n",
       "    <path d=\"M0 0h24v24H0V0z\" fill=\"none\"/>\n",
       "    <path d=\"M18.56 5.44l.94 2.06.94-2.06 2.06-.94-2.06-.94-.94-2.06-.94 2.06-2.06.94zm-11 1L8.5 8.5l.94-2.06 2.06-.94-2.06-.94L8.5 2.5l-.94 2.06-2.06.94zm10 10l.94 2.06.94-2.06 2.06-.94-2.06-.94-.94-2.06-.94 2.06-2.06.94z\"/><path d=\"M17.41 7.96l-1.37-1.37c-.4-.4-.92-.59-1.43-.59-.52 0-1.04.2-1.43.59L10.3 9.45l-7.72 7.72c-.78.78-.78 2.05 0 2.83L4 21.41c.39.39.9.59 1.41.59.51 0 1.02-.2 1.41-.59l7.78-7.78 2.81-2.81c.8-.78.8-2.07 0-2.86zM5.41 20L4 18.59l7.72-7.72 1.47 1.35L5.41 20z\"/>\n",
       "  </svg>\n",
       "      </button>\n",
       "      \n",
       "  <style>\n",
       "    .colab-df-container {\n",
       "      display:flex;\n",
       "      flex-wrap:wrap;\n",
       "      gap: 12px;\n",
       "    }\n",
       "\n",
       "    .colab-df-convert {\n",
       "      background-color: #E8F0FE;\n",
       "      border: none;\n",
       "      border-radius: 50%;\n",
       "      cursor: pointer;\n",
       "      display: none;\n",
       "      fill: #1967D2;\n",
       "      height: 32px;\n",
       "      padding: 0 0 0 0;\n",
       "      width: 32px;\n",
       "    }\n",
       "\n",
       "    .colab-df-convert:hover {\n",
       "      background-color: #E2EBFA;\n",
       "      box-shadow: 0px 1px 2px rgba(60, 64, 67, 0.3), 0px 1px 3px 1px rgba(60, 64, 67, 0.15);\n",
       "      fill: #174EA6;\n",
       "    }\n",
       "\n",
       "    [theme=dark] .colab-df-convert {\n",
       "      background-color: #3B4455;\n",
       "      fill: #D2E3FC;\n",
       "    }\n",
       "\n",
       "    [theme=dark] .colab-df-convert:hover {\n",
       "      background-color: #434B5C;\n",
       "      box-shadow: 0px 1px 3px 1px rgba(0, 0, 0, 0.15);\n",
       "      filter: drop-shadow(0px 1px 2px rgba(0, 0, 0, 0.3));\n",
       "      fill: #FFFFFF;\n",
       "    }\n",
       "  </style>\n",
       "\n",
       "      <script>\n",
       "        const buttonEl =\n",
       "          document.querySelector('#df-82ed9914-4174-455b-aa7f-cde1d77e76f9 button.colab-df-convert');\n",
       "        buttonEl.style.display =\n",
       "          google.colab.kernel.accessAllowed ? 'block' : 'none';\n",
       "\n",
       "        async function convertToInteractive(key) {\n",
       "          const element = document.querySelector('#df-82ed9914-4174-455b-aa7f-cde1d77e76f9');\n",
       "          const dataTable =\n",
       "            await google.colab.kernel.invokeFunction('convertToInteractive',\n",
       "                                                     [key], {});\n",
       "          if (!dataTable) return;\n",
       "\n",
       "          const docLinkHtml = 'Like what you see? Visit the ' +\n",
       "            '<a target=\"_blank\" href=https://colab.research.google.com/notebooks/data_table.ipynb>data table notebook</a>'\n",
       "            + ' to learn more about interactive tables.';\n",
       "          element.innerHTML = '';\n",
       "          dataTable['output_type'] = 'display_data';\n",
       "          await google.colab.output.renderOutput(dataTable, element);\n",
       "          const docLink = document.createElement('div');\n",
       "          docLink.innerHTML = docLinkHtml;\n",
       "          element.appendChild(docLink);\n",
       "        }\n",
       "      </script>\n",
       "    </div>\n",
       "  </div>\n",
       "  "
      ],
      "text/plain": [
       "       imdb_rating appropriate_for      director  downloads      id  \\\n",
       "0             4.80               R     John Swab     304.00  372092   \n",
       "1             6.40           TV-PG   Paul Ziller      73.00  372091   \n",
       "2             5.20               R  Ben Wheatley    1427.00  343381   \n",
       "3             8.10             NaN  Venky Atluri    1549.00  372090   \n",
       "4             4.60             NaN  Shaji Kailas     657.00  372089   \n",
       "...            ...             ...           ...        ...     ...   \n",
       "20543          NaN             NaN           NaN    1998.00   28957   \n",
       "20544         7.70             NaN     Bimal Roy    6080.00   28958   \n",
       "20545         8.00             NaN           NaN    3276.00   30459   \n",
       "20546          NaN             NaN           NaN     309.00  371669   \n",
       "20547          NaN             NaN           NaN    2613.00  371816   \n",
       "\n",
       "                  industry       language posted_date release_date  run_time  \\\n",
       "0      Hollywood / English        English  2023-02-20   2023-01-28    105.00   \n",
       "1      Hollywood / English        English  2023-02-20   2023-02-05     84.00   \n",
       "2      Hollywood / English  English,Hindi  2021-04-20   2021-06-18    107.00   \n",
       "3                Tollywood          Hindi  2023-02-20   2023-02-17    139.00   \n",
       "4                Tollywood          Hindi  2023-02-20   2023-01-26    122.00   \n",
       "...                    ...            ...         ...          ...       ...   \n",
       "20543   Bollywood / Indian          Hindi  1970-01-01   1959-03-13       NaN   \n",
       "20544   Bollywood / Indian          Hindi  1970-01-01   1955-05-13    159.00   \n",
       "20545   Bollywood / Indian          Hindi  1970-01-01   1958-03-28    110.00   \n",
       "20546            Wrestling        English  2023-02-10   2023-02-09       NaN   \n",
       "20547            Wrestling        English  2023-02-14   2023-02-13       NaN   \n",
       "\n",
       "                                               storyline  \\\n",
       "0      Doc\\r\\n facilitates a fragile truce between th...   \n",
       "1      Caterer\\r\\n Goldy Berry reunites with detectiv...   \n",
       "2      As the world searches for a cure to a disastro...   \n",
       "3      The life of a young man and his struggles agai...   \n",
       "4      A man named Kalidas gets stranded due to the p...   \n",
       "...                                                  ...   \n",
       "20543                                                NaN   \n",
       "20544  Devdas and Parvati had been inseparable as chi...   \n",
       "20545  While driving his car on a rainy night, Anand'...   \n",
       "20546                                                NaN   \n",
       "20547                                                NaN   \n",
       "\n",
       "                                            title    views  \\\n",
       "0                                    Little Dixie  2794.00   \n",
       "1      Grilling Season: A Curious Caterer Mystery  1002.00   \n",
       "2                                    In the Earth 14419.00   \n",
       "3                                          Vaathi  4878.00   \n",
       "4                                           Alone  2438.00   \n",
       "...                                           ...      ...   \n",
       "20543                                  Bhai-Bahen  6219.00   \n",
       "20544                                      Devdas 16376.00   \n",
       "20545                                   Madhumati  7220.00   \n",
       "20546                       TNA.Impact 2023-02-09  1419.00   \n",
       "20547                          WWE Raw 2023-02-13  6697.00   \n",
       "\n",
       "                                                  writer old_posted_date  \\\n",
       "0                                              John Swab    20 Feb, 2023   \n",
       "1                                 John Christian Plummer    20 Feb, 2023   \n",
       "2                                           Ben Wheatley    20 Apr, 2021   \n",
       "3                                           Venky Atluri    20 Feb, 2023   \n",
       "4                                       Rajesh Jayaraman    20 Feb, 2023   \n",
       "...                                                  ...             ...   \n",
       "20543                                                NaN    01 Jan, 1970   \n",
       "20544  Rajinder Singh Bedi, Saratchandra Chatterjee, ...    01 Jan, 1970   \n",
       "20545                                                NaN    01 Jan, 1970   \n",
       "20546                                                NaN    10 Feb, 2023   \n",
       "20547                                                NaN    14 Feb, 2023   \n",
       "\n",
       "      old_release_date  \n",
       "0          Jan 28 2023  \n",
       "1          Feb 05 2023  \n",
       "2          Jun 18 2021  \n",
       "3          Feb 17 2023  \n",
       "4          Jan 26 2023  \n",
       "...                ...  \n",
       "20543      Mar 13 1959  \n",
       "20544      May 13 1955  \n",
       "20545      Mar 28 1958  \n",
       "20546      Feb 09 2023  \n",
       "20547      Feb 13 2023  \n",
       "\n",
       "[20548 rows x 16 columns]"
      ]
     },
     "execution_count": 63,
     "metadata": {},
     "output_type": "execute_result"
    }
   ],
   "source": [
    "data"
   ]
  },
  {
   "cell_type": "markdown",
   "id": "c2d19e2a",
   "metadata": {
    "id": "c2d19e2a",
    "papermill": {
     "duration": 0.008997,
     "end_time": "2023-03-27T05:53:39.067882",
     "exception": false,
     "start_time": "2023-03-27T05:53:39.058885",
     "status": "completed"
    },
    "tags": []
   },
   "source": [
    "## 标称属性\n",
    "### 标称属性的缺失值的个数"
   ]
  },
  {
   "cell_type": "code",
   "execution_count": 64,
   "id": "2d1b2279",
   "metadata": {
    "colab": {
     "base_uri": "https://localhost:8080/",
     "height": 300
    },
    "execution": {
     "iopub.execute_input": "2023-03-27T05:53:39.087756Z",
     "iopub.status.busy": "2023-03-27T05:53:39.087438Z",
     "iopub.status.idle": "2023-03-27T05:53:39.258734Z",
     "shell.execute_reply": "2023-03-27T05:53:39.257789Z"
    },
    "id": "2d1b2279",
    "outputId": "fd098aaf-af63-49b1-d659-c895862bbcb8",
    "papermill": {
     "duration": 0.183827,
     "end_time": "2023-03-27T05:53:39.260868",
     "exception": false,
     "start_time": "2023-03-27T05:53:39.077041",
     "status": "completed"
    },
    "tags": []
   },
   "outputs": [
    {
     "data": {
      "text/plain": [
       "Text(0.5, 1.0, 'num of nan values')"
      ]
     },
     "execution_count": 64,
     "metadata": {},
     "output_type": "execute_result"
    },
    {
     "data": {
      "image/png": "[encoded data removed]",
      "text/plain": [
       "<Figure size 432x288 with 1 Axes>"
      ]
     },
     "metadata": {
      "needs_background": "light"
     },
     "output_type": "display_data"
    }
   ],
   "source": [
    "ax = nominals\n",
    "ay = []\n",
    "for attr in nominals:\n",
    "    freq = 5\n",
    "    ay.append(data[attr].isna().sum())\n",
    "plt.bar(ax, ay)\n",
    "plt.title('num of nan values')"
   ]
  },
  {
   "cell_type": "markdown",
   "id": "76cc6c81",
   "metadata": {
    "id": "76cc6c81",
    "papermill": {
     "duration": 0.008827,
     "end_time": "2023-03-27T05:53:39.281112",
     "exception": false,
     "start_time": "2023-03-27T05:53:39.272285",
     "status": "completed"
    },
    "tags": []
   },
   "source": [
    "### 标称属性的每个可能取值的频数\n",
    "#### 通过.value_counts()取得，这里仅展示频度前五的结果"
   ]
  },
  {
   "cell_type": "code",
   "execution_count": 65,
   "id": "4cfe6ef3",
   "metadata": {
    "colab": {
     "base_uri": "https://localhost:8080/",
     "height": 1000
    },
    "execution": {
     "iopub.execute_input": "2023-03-27T05:53:39.301559Z",
     "iopub.status.busy": "2023-03-27T05:53:39.300498Z",
     "iopub.status.idle": "2023-03-27T05:53:40.137290Z",
     "shell.execute_reply": "2023-03-27T05:53:40.136007Z"
    },
    "id": "4cfe6ef3",
    "outputId": "742a7d45-c203-4f68-f432-a9b353dc00ca",
    "papermill": {
     "duration": 0.849223,
     "end_time": "2023-03-27T05:53:40.139519",
     "exception": false,
     "start_time": "2023-03-27T05:53:39.290296",
     "status": "completed"
    },
    "tags": []
   },
   "outputs": [
    {
     "data": {
      "image/png": "[encoded data removed]",
      "text/plain": [
       "<Figure size 1200x1200 with 5 Axes>"
      ]
     },
     "metadata": {
      "needs_background": "light"
     },
     "output_type": "display_data"
    }
   ],
   "source": [
    "index = 1\n",
    "plt.figure(figsize=(12,12), dpi=100).subplots_adjust(hspace=1)\n",
    "plt.figure(1)\n",
    "col = 2\n",
    "row = int(len(nominals) / col) + 1\n",
    "for attr in nominals:\n",
    "    plt.subplot(row, col, index)\n",
    "    index += 1\n",
    "    freq = 10\n",
    "    data[attr].value_counts().head(freq).plot.bar()\n",
    "    plt.title(f'{attr}: frequency of top {freq}')"
   ]
  },
  {
   "cell_type": "markdown",
   "id": "d7eff278",
   "metadata": {
    "id": "d7eff278",
    "papermill": {
     "duration": 0.010525,
     "end_time": "2023-03-27T05:53:40.160935",
     "exception": false,
     "start_time": "2023-03-27T05:53:40.150410",
     "status": "completed"
    },
    "tags": []
   },
   "source": [
    "## 数值属性\n",
    "### 数值属性的缺失值个数"
   ]
  },
  {
   "cell_type": "code",
   "execution_count": 66,
   "id": "60b2af40",
   "metadata": {
    "colab": {
     "base_uri": "https://localhost:8080/",
     "height": 342
    },
    "execution": {
     "iopub.execute_input": "2023-03-27T05:53:40.184391Z",
     "iopub.status.busy": "2023-03-27T05:53:40.184052Z",
     "iopub.status.idle": "2023-03-27T05:53:40.353051Z",
     "shell.execute_reply": "2023-03-27T05:53:40.351214Z"
    },
    "id": "60b2af40",
    "outputId": "a76290bf-ec02-4930-f470-0f2c66b92780",
    "papermill": {
     "duration": 0.183624,
     "end_time": "2023-03-27T05:53:40.355388",
     "exception": false,
     "start_time": "2023-03-27T05:53:40.171764",
     "status": "completed"
    },
    "tags": []
   },
   "outputs": [
    {
     "data": {
      "text/plain": [
       "Text(0.5, 1.0, 'Num of nan values')"
      ]
     },
     "execution_count": 66,
     "metadata": {},
     "output_type": "execute_result"
    },
    {
     "data": {
      "image/png": "[encoded data removed]",
      "text/plain": [
       "<Figure size 432x288 with 1 Axes>"
      ]
     },
     "metadata": {
      "needs_background": "light"
     },
     "output_type": "display_data"
    }
   ],
   "source": [
    "ax = range(len(numerics))\n",
    "ay = []\n",
    "for attr in numerics:\n",
    "    freq = 5\n",
    "    ay.append(data[attr].isna().sum())\n",
    "plt.bar(ax, ay)\n",
    "plt.xticks(ax, numerics, rotation=45)\n",
    "plt.title('Num of nan values')"
   ]
  },
  {
   "cell_type": "markdown",
   "id": "2057d6c0",
   "metadata": {
    "id": "2057d6c0",
    "papermill": {
     "duration": 0.011895,
     "end_time": "2023-03-27T05:53:40.380038",
     "exception": false,
     "start_time": "2023-03-27T05:53:40.368143",
     "status": "completed"
    },
    "tags": []
   },
   "source": [
    "## 数值属性的五数、盒图 \n",
    "### release date\n",
    "####     处理时 仅关注年份信息"
   ]
  },
  {
   "cell_type": "code",
   "execution_count": 67,
   "id": "e3aed911",
   "metadata": {
    "colab": {
     "base_uri": "https://localhost:8080/",
     "height": 443
    },
    "execution": {
     "iopub.execute_input": "2023-03-27T05:53:40.404653Z",
     "iopub.status.busy": "2023-03-27T05:53:40.404325Z",
     "iopub.status.idle": "2023-03-27T05:53:40.536578Z",
     "shell.execute_reply": "2023-03-27T05:53:40.534861Z"
    },
    "id": "e3aed911",
    "outputId": "9c82aeed-d86b-4d22-f2eb-9dbbc04fddcb",
    "papermill": {
     "duration": 0.14804,
     "end_time": "2023-03-27T05:53:40.539641",
     "exception": false,
     "start_time": "2023-03-27T05:53:40.391601",
     "status": "completed"
    },
    "tags": []
   },
   "outputs": [
    {
     "name": "stdout",
     "output_type": "stream",
     "text": [
      "count   20547.00\n",
      "mean     2013.70\n",
      "std        12.77\n",
      "min      1921.00\n",
      "25%      2013.00\n",
      "50%      2017.00\n",
      "75%      2021.00\n",
      "max      2023.00\n",
      "Name: release_date, dtype: float64\n"
     ]
    },
    {
     "data": {
      "image/png": "[encoded data removed]",
      "text/plain": [
       "<Figure size 432x288 with 1 Axes>"
      ]
     },
     "metadata": {
      "needs_background": "light"
     },
     "output_type": "display_data"
    }
   ],
   "source": [
    "attr = 'release_date'\n",
    "print(data[attr].dt.year.describe())\n",
    "visit = pd.DataFrame(data[attr].dt.year)\n",
    "visit.plot.box()\n",
    "plt.title(attr + ': box')\n",
    "plt.show()"
   ]
  },
  {
   "cell_type": "markdown",
   "id": "cb2e7bf0",
   "metadata": {
    "id": "cb2e7bf0",
    "papermill": {
     "duration": 0.014138,
     "end_time": "2023-03-27T05:53:40.569746",
     "exception": false,
     "start_time": "2023-03-27T05:53:40.555608",
     "status": "completed"
    },
    "tags": []
   },
   "source": [
    "### posted date\n",
    "####     处理时仅关注年份信息"
   ]
  },
  {
   "cell_type": "code",
   "execution_count": 68,
   "id": "05d5c407",
   "metadata": {
    "colab": {
     "base_uri": "https://localhost:8080/",
     "height": 443
    },
    "execution": {
     "iopub.execute_input": "2023-03-27T05:53:40.596184Z",
     "iopub.status.busy": "2023-03-27T05:53:40.594832Z",
     "iopub.status.idle": "2023-03-27T05:53:40.723912Z",
     "shell.execute_reply": "2023-03-27T05:53:40.722969Z"
    },
    "id": "05d5c407",
    "outputId": "36b724ba-efe5-4411-84cf-888723bfd69d",
    "papermill": {
     "duration": 0.14434,
     "end_time": "2023-03-27T05:53:40.726167",
     "exception": false,
     "start_time": "2023-03-27T05:53:40.581827",
     "status": "completed"
    },
    "tags": []
   },
   "outputs": [
    {
     "name": "stdout",
     "output_type": "stream",
     "text": [
      "count   20547.00\n",
      "mean     2017.00\n",
      "std         6.10\n",
      "min      1970.00\n",
      "25%      2014.00\n",
      "50%      2018.00\n",
      "75%      2022.00\n",
      "max      2023.00\n",
      "Name: posted_date, dtype: float64\n"
     ]
    },
    {
     "data": {
      "image/png": "[encoded data removed]",
      "text/plain": [
       "<Figure size 432x288 with 1 Axes>"
      ]
     },
     "metadata": {
      "needs_background": "light"
     },
     "output_type": "display_data"
    }
   ],
   "source": [
    "attr = 'posted_date'\n",
    "print(data[attr].dt.year.describe())\n",
    "visit = pd.DataFrame(data[attr].dt.year)\n",
    "visit.plot.box()\n",
    "plt.title(attr + ': box')\n",
    "plt.show()"
   ]
  },
  {
   "cell_type": "markdown",
   "id": "25138c21",
   "metadata": {
    "id": "25138c21",
    "papermill": {
     "duration": 0.015232,
     "end_time": "2023-03-27T05:53:40.759226",
     "exception": false,
     "start_time": "2023-03-27T05:53:40.743994",
     "status": "completed"
    },
    "tags": []
   },
   "source": [
    "### imdb rating"
   ]
  },
  {
   "cell_type": "code",
   "execution_count": 69,
   "id": "ff6f11b5",
   "metadata": {
    "colab": {
     "base_uri": "https://localhost:8080/",
     "height": 443
    },
    "execution": {
     "iopub.execute_input": "2023-03-27T05:53:40.786858Z",
     "iopub.status.busy": "2023-03-27T05:53:40.785783Z",
     "iopub.status.idle": "2023-03-27T05:53:40.908423Z",
     "shell.execute_reply": "2023-03-27T05:53:40.907583Z"
    },
    "id": "ff6f11b5",
    "outputId": "c9f6d150-14ca-459d-c7da-3771f2f5265d",
    "papermill": {
     "duration": 0.13946,
     "end_time": "2023-03-27T05:53:40.911524",
     "exception": false,
     "start_time": "2023-03-27T05:53:40.772064",
     "status": "completed"
    },
    "tags": []
   },
   "outputs": [
    {
     "name": "stdout",
     "output_type": "stream",
     "text": [
      "count   19707.00\n",
      "mean        5.76\n",
      "std         1.37\n",
      "min         1.10\n",
      "25%         4.80\n",
      "50%         5.70\n",
      "75%         6.60\n",
      "max         9.90\n",
      "Name: imdb_rating, dtype: float64\n"
     ]
    },
    {
     "data": {
      "image/png": "[encoded data removed]",
      "text/plain": [
       "<Figure size 432x288 with 1 Axes>"
      ]
     },
     "metadata": {
      "needs_background": "light"
     },
     "output_type": "display_data"
    }
   ],
   "source": [
    "attr = 'imdb_rating'\n",
    "print(data[attr].describe())\n",
    "visit = pd.DataFrame(data[attr])\n",
    "visit.plot.box()\n",
    "plt.title(attr + ': box')\n",
    "plt.show()"
   ]
  },
  {
   "cell_type": "markdown",
   "id": "9c8018e1",
   "metadata": {
    "id": "9c8018e1",
    "papermill": {
     "duration": 0.017199,
     "end_time": "2023-03-27T05:53:40.946171",
     "exception": false,
     "start_time": "2023-03-27T05:53:40.928972",
     "status": "completed"
    },
    "tags": []
   },
   "source": [
    "### downloads"
   ]
  },
  {
   "cell_type": "code",
   "execution_count": 70,
   "id": "ae75c43d",
   "metadata": {
    "colab": {
     "base_uri": "https://localhost:8080/",
     "height": 442
    },
    "execution": {
     "iopub.execute_input": "2023-03-27T05:53:40.974875Z",
     "iopub.status.busy": "2023-03-27T05:53:40.973743Z",
     "iopub.status.idle": "2023-03-27T05:53:41.124106Z",
     "shell.execute_reply": "2023-03-27T05:53:41.122817Z"
    },
    "id": "ae75c43d",
    "outputId": "1298da4d-3a09-459b-b485-0b20619359e0",
    "papermill": {
     "duration": 0.167777,
     "end_time": "2023-03-27T05:53:41.127049",
     "exception": false,
     "start_time": "2023-03-27T05:53:40.959272",
     "status": "completed"
    },
    "tags": []
   },
   "outputs": [
    {
     "name": "stdout",
     "output_type": "stream",
     "text": [
      "count    20547.00\n",
      "mean     10795.24\n",
      "std      23716.18\n",
      "min          0.00\n",
      "25%        855.50\n",
      "50%       2716.00\n",
      "75%      10070.00\n",
      "max     391272.00\n",
      "Name: downloads, dtype: float64\n"
     ]
    },
    {
     "data": {
      "image/png": "[encoded data removed]",
      "text/plain": [
       "<Figure size 432x288 with 1 Axes>"
      ]
     },
     "metadata": {
      "needs_background": "light"
     },
     "output_type": "display_data"
    }
   ],
   "source": [
    "attr = 'downloads'\n",
    "print(data[attr].describe())\n",
    "visit = pd.DataFrame(data[attr])\n",
    "visit.plot.box()\n",
    "plt.title(attr + ': box')\n",
    "plt.show()"
   ]
  },
  {
   "cell_type": "markdown",
   "id": "1e1dc69f",
   "metadata": {
    "id": "1e1dc69f",
    "papermill": {
     "duration": 0.012667,
     "end_time": "2023-03-27T05:53:41.155683",
     "exception": false,
     "start_time": "2023-03-27T05:53:41.143016",
     "status": "completed"
    },
    "tags": []
   },
   "source": [
    "### run_time\n",
    "#### 单位为分钟"
   ]
  },
  {
   "cell_type": "code",
   "execution_count": 71,
   "id": "4727b39f",
   "metadata": {
    "colab": {
     "base_uri": "https://localhost:8080/",
     "height": 443
    },
    "execution": {
     "iopub.execute_input": "2023-03-27T05:53:41.184155Z",
     "iopub.status.busy": "2023-03-27T05:53:41.183492Z",
     "iopub.status.idle": "2023-03-27T05:53:41.318023Z",
     "shell.execute_reply": "2023-03-27T05:53:41.317109Z"
    },
    "id": "4727b39f",
    "outputId": "f6e0d035-5c8b-4937-a84c-7282df763fa7",
    "papermill": {
     "duration": 0.15172,
     "end_time": "2023-03-27T05:53:41.320452",
     "exception": false,
     "start_time": "2023-03-27T05:53:41.168732",
     "status": "completed"
    },
    "tags": []
   },
   "outputs": [
    {
     "name": "stdout",
     "output_type": "stream",
     "text": [
      "count   18780.00\n",
      "mean      106.20\n",
      "std        23.64\n",
      "min         2.00\n",
      "25%        90.00\n",
      "50%       100.00\n",
      "75%       117.00\n",
      "max       321.00\n",
      "Name: run_time, dtype: float64\n"
     ]
    },
    {
     "data": {
      "image/png": "[encoded data removed]",
      "text/plain": [
       "<Figure size 432x288 with 1 Axes>"
      ]
     },
     "metadata": {
      "needs_background": "light"
     },
     "output_type": "display_data"
    }
   ],
   "source": [
    "attr = 'run_time'\n",
    "print(data[attr].describe())\n",
    "visit = pd.DataFrame(data[attr])\n",
    "visit.plot.box()\n",
    "plt.title(attr + ': box')\n",
    "plt.show()"
   ]
  },
  {
   "cell_type": "markdown",
   "id": "728ea08e",
   "metadata": {
    "id": "728ea08e",
    "papermill": {
     "duration": 0.015192,
     "end_time": "2023-03-27T05:53:41.355198",
     "exception": false,
     "start_time": "2023-03-27T05:53:41.340006",
     "status": "completed"
    },
    "tags": []
   },
   "source": [
    "### views"
   ]
  },
  {
   "cell_type": "code",
   "execution_count": 72,
   "id": "9f4bbcdc",
   "metadata": {
    "colab": {
     "base_uri": "https://localhost:8080/",
     "height": 442
    },
    "execution": {
     "iopub.execute_input": "2023-03-27T05:53:41.384528Z",
     "iopub.status.busy": "2023-03-27T05:53:41.383914Z",
     "iopub.status.idle": "2023-03-27T05:53:41.518675Z",
     "shell.execute_reply": "2023-03-27T05:53:41.516858Z"
    },
    "id": "9f4bbcdc",
    "outputId": "c521c832-b118-4653-bc06-3301422b5dfc",
    "papermill": {
     "duration": 0.152387,
     "end_time": "2023-03-27T05:53:41.521206",
     "exception": false,
     "start_time": "2023-03-27T05:53:41.368819",
     "status": "completed"
    },
    "tags": []
   },
   "outputs": [
    {
     "name": "stdout",
     "output_type": "stream",
     "text": [
      "count     20547.00\n",
      "mean      35595.51\n",
      "std       62472.42\n",
      "min         667.00\n",
      "25%        7571.50\n",
      "50%       15222.00\n",
      "75%       36571.00\n",
      "max     1638533.00\n",
      "Name: views, dtype: float64\n"
     ]
    },
    {
     "data": {
      "image/png": "[encoded data removed]",
      "text/plain": [
       "<Figure size 432x288 with 1 Axes>"
      ]
     },
     "metadata": {
      "needs_background": "light"
     },
     "output_type": "display_data"
    }
   ],
   "source": [
    "attr = 'views'\n",
    "print(data[attr].describe())\n",
    "visit = pd.DataFrame(data[attr])\n",
    "visit.plot.box()\n",
    "plt.title(attr + ': box')\n",
    "plt.show()"
   ]
  },
  {
   "cell_type": "markdown",
   "id": "e1d6b4cd",
   "metadata": {
    "id": "e1d6b4cd",
    "papermill": {
     "duration": 0.013973,
     "end_time": "2023-03-27T05:53:41.554104",
     "exception": false,
     "start_time": "2023-03-27T05:53:41.540131",
     "status": "completed"
    },
    "tags": []
   },
   "source": [
    "## 缺失值处理\n",
    "### 剔除\n",
    "#### 剔除后仅剩9902条数据，远少于原数据量20548"
   ]
  },
  {
   "cell_type": "code",
   "execution_count": 73,
   "id": "c0cec4c4",
   "metadata": {
    "execution": {
     "iopub.execute_input": "2023-03-27T05:53:41.583891Z",
     "iopub.status.busy": "2023-03-27T05:53:41.583487Z",
     "iopub.status.idle": "2023-03-27T05:53:41.628343Z",
     "shell.execute_reply": "2023-03-27T05:53:41.627353Z"
    },
    "id": "c0cec4c4",
    "papermill": {
     "duration": 0.06223,
     "end_time": "2023-03-27T05:53:41.630352",
     "exception": false,
     "start_time": "2023-03-27T05:53:41.568122",
     "status": "completed"
    },
    "tags": []
   },
   "outputs": [],
   "source": [
    "new_data = data.dropna()"
   ]
  },
  {
   "cell_type": "code",
   "execution_count": 74,
   "id": "FE_lf5ubFKk-",
   "metadata": {
    "colab": {
     "base_uri": "https://localhost:8080/",
     "height": 1234
    },
    "id": "FE_lf5ubFKk-",
    "outputId": "67e10e84-1833-48b7-de9f-fe7fa8210f5f"
   },
   "outputs": [
    {
     "data": {
      "text/html": [
       "\n",
       "  <div id=\"df-06387959-a101-4070-b8d8-5d04fb67f622\">\n",
       "    <div class=\"colab-df-container\">\n",
       "      <div>\n",
       "<style scoped>\n",
       "    .dataframe tbody tr th:only-of-type {\n",
       "        vertical-align: middle;\n",
       "    }\n",
       "\n",
       "    .dataframe tbody tr th {\n",
       "        vertical-align: top;\n",
       "    }\n",
       "\n",
       "    .dataframe thead th {\n",
       "        text-align: right;\n",
       "    }\n",
       "</style>\n",
       "<table border=\"1\" class=\"dataframe\">\n",
       "  <thead>\n",
       "    <tr style=\"text-align: right;\">\n",
       "      <th></th>\n",
       "      <th>imdb_rating</th>\n",
       "      <th>appropriate_for</th>\n",
       "      <th>director</th>\n",
       "      <th>downloads</th>\n",
       "      <th>id</th>\n",
       "      <th>industry</th>\n",
       "      <th>language</th>\n",
       "      <th>posted_date</th>\n",
       "      <th>release_date</th>\n",
       "      <th>run_time</th>\n",
       "      <th>storyline</th>\n",
       "      <th>title</th>\n",
       "      <th>views</th>\n",
       "      <th>writer</th>\n",
       "      <th>old_posted_date</th>\n",
       "      <th>old_release_date</th>\n",
       "    </tr>\n",
       "  </thead>\n",
       "  <tbody>\n",
       "    <tr>\n",
       "      <th>0</th>\n",
       "      <td>4.80</td>\n",
       "      <td>R</td>\n",
       "      <td>John Swab</td>\n",
       "      <td>304.00</td>\n",
       "      <td>372092</td>\n",
       "      <td>Hollywood / English</td>\n",
       "      <td>English</td>\n",
       "      <td>2023-02-20</td>\n",
       "      <td>2023-01-28</td>\n",
       "      <td>105.00</td>\n",
       "      <td>Doc\\r\\n facilitates a fragile truce between th...</td>\n",
       "      <td>Little Dixie</td>\n",
       "      <td>2794.00</td>\n",
       "      <td>John Swab</td>\n",
       "      <td>20 Feb, 2023</td>\n",
       "      <td>Jan 28 2023</td>\n",
       "    </tr>\n",
       "    <tr>\n",
       "      <th>1</th>\n",
       "      <td>6.40</td>\n",
       "      <td>TV-PG</td>\n",
       "      <td>Paul Ziller</td>\n",
       "      <td>73.00</td>\n",
       "      <td>372091</td>\n",
       "      <td>Hollywood / English</td>\n",
       "      <td>English</td>\n",
       "      <td>2023-02-20</td>\n",
       "      <td>2023-02-05</td>\n",
       "      <td>84.00</td>\n",
       "      <td>Caterer\\r\\n Goldy Berry reunites with detectiv...</td>\n",
       "      <td>Grilling Season: A Curious Caterer Mystery</td>\n",
       "      <td>1002.00</td>\n",
       "      <td>John Christian Plummer</td>\n",
       "      <td>20 Feb, 2023</td>\n",
       "      <td>Feb 05 2023</td>\n",
       "    </tr>\n",
       "    <tr>\n",
       "      <th>2</th>\n",
       "      <td>5.20</td>\n",
       "      <td>R</td>\n",
       "      <td>Ben Wheatley</td>\n",
       "      <td>1427.00</td>\n",
       "      <td>343381</td>\n",
       "      <td>Hollywood / English</td>\n",
       "      <td>English,Hindi</td>\n",
       "      <td>2021-04-20</td>\n",
       "      <td>2021-06-18</td>\n",
       "      <td>107.00</td>\n",
       "      <td>As the world searches for a cure to a disastro...</td>\n",
       "      <td>In the Earth</td>\n",
       "      <td>14419.00</td>\n",
       "      <td>Ben Wheatley</td>\n",
       "      <td>20 Apr, 2021</td>\n",
       "      <td>Jun 18 2021</td>\n",
       "    </tr>\n",
       "    <tr>\n",
       "      <th>7</th>\n",
       "      <td>6.50</td>\n",
       "      <td>R</td>\n",
       "      <td>Benjamin Caron</td>\n",
       "      <td>1781.00</td>\n",
       "      <td>371751</td>\n",
       "      <td>Hollywood / English</td>\n",
       "      <td>English</td>\n",
       "      <td>2023-02-13</td>\n",
       "      <td>2023-02-17</td>\n",
       "      <td>116.00</td>\n",
       "      <td>Motivations are suspect, and expectations are ...</td>\n",
       "      <td>Sharper</td>\n",
       "      <td>18225.00</td>\n",
       "      <td>Brian Gatewood, Alessandro Tanaka</td>\n",
       "      <td>13 Feb, 2023</td>\n",
       "      <td>Feb 17 2023</td>\n",
       "    </tr>\n",
       "    <tr>\n",
       "      <th>8</th>\n",
       "      <td>6.90</td>\n",
       "      <td>PG-13</td>\n",
       "      <td>Ravi Kapoor</td>\n",
       "      <td>458.00</td>\n",
       "      <td>372042</td>\n",
       "      <td>Hollywood / English</td>\n",
       "      <td>English</td>\n",
       "      <td>2023-02-18</td>\n",
       "      <td>2022-12-02</td>\n",
       "      <td>80.00</td>\n",
       "      <td>An\\r\\n unmotivated South Asian American rapper...</td>\n",
       "      <td>Four Samosas</td>\n",
       "      <td>6912.00</td>\n",
       "      <td>Ravi Kapoor</td>\n",
       "      <td>18 Feb, 2023</td>\n",
       "      <td>Dec 02 2022</td>\n",
       "    </tr>\n",
       "    <tr>\n",
       "      <th>...</th>\n",
       "      <td>...</td>\n",
       "      <td>...</td>\n",
       "      <td>...</td>\n",
       "      <td>...</td>\n",
       "      <td>...</td>\n",
       "      <td>...</td>\n",
       "      <td>...</td>\n",
       "      <td>...</td>\n",
       "      <td>...</td>\n",
       "      <td>...</td>\n",
       "      <td>...</td>\n",
       "      <td>...</td>\n",
       "      <td>...</td>\n",
       "      <td>...</td>\n",
       "      <td>...</td>\n",
       "      <td>...</td>\n",
       "    </tr>\n",
       "    <tr>\n",
       "      <th>20522</th>\n",
       "      <td>7.10</td>\n",
       "      <td>Not Rated</td>\n",
       "      <td>Biren Nag</td>\n",
       "      <td>1932.00</td>\n",
       "      <td>23825</td>\n",
       "      <td>Bollywood / Indian</td>\n",
       "      <td>Hindi</td>\n",
       "      <td>1970-01-01</td>\n",
       "      <td>1962-05-11</td>\n",
       "      <td>158.00</td>\n",
       "      <td>After a lusty Thakur rapes a young girl, she k...</td>\n",
       "      <td>Bees Saal Baad</td>\n",
       "      <td>6076.00</td>\n",
       "      <td>Dhruva Chatterjee, Dev Kishan</td>\n",
       "      <td>01 Jan, 1970</td>\n",
       "      <td>May 11 1962</td>\n",
       "    </tr>\n",
       "    <tr>\n",
       "      <th>20525</th>\n",
       "      <td>7.00</td>\n",
       "      <td>G</td>\n",
       "      <td>Guy Hamilton</td>\n",
       "      <td>2544.00</td>\n",
       "      <td>25548</td>\n",
       "      <td>Hollywood / English</td>\n",
       "      <td>English,German,Polish,French</td>\n",
       "      <td>1970-01-01</td>\n",
       "      <td>1969-09-17</td>\n",
       "      <td>132.00</td>\n",
       "      <td>Historical reenactment of the air war in the e...</td>\n",
       "      <td>Battle of Britain</td>\n",
       "      <td>9319.00</td>\n",
       "      <td>James Kennaway, Wilfred Greatorex, Derek Dempster</td>\n",
       "      <td>01 Jan, 1970</td>\n",
       "      <td>Sep 17 1969</td>\n",
       "    </tr>\n",
       "    <tr>\n",
       "      <th>20533</th>\n",
       "      <td>5.60</td>\n",
       "      <td>R</td>\n",
       "      <td>Barbara Topsøe-Rothenborg</td>\n",
       "      <td>12284.00</td>\n",
       "      <td>1173</td>\n",
       "      <td>Hollywood / English</td>\n",
       "      <td>Spanish,German,English</td>\n",
       "      <td>2016-05-26</td>\n",
       "      <td>1970-01-01</td>\n",
       "      <td>90.00</td>\n",
       "      <td>LOVE AT FIRST HICCUP is a charming, innocent, ...</td>\n",
       "      <td>Love at First Hiccup</td>\n",
       "      <td>36022.00</td>\n",
       "      <td>Barbara Topsøe-Rothenborg, Søren Frellesen, De...</td>\n",
       "      <td>26 May, 2016</td>\n",
       "      <td>Jan 01 1970</td>\n",
       "    </tr>\n",
       "    <tr>\n",
       "      <th>20537</th>\n",
       "      <td>7.10</td>\n",
       "      <td>Not Rated</td>\n",
       "      <td>Biren Nag</td>\n",
       "      <td>1932.00</td>\n",
       "      <td>23825</td>\n",
       "      <td>Bollywood / Indian</td>\n",
       "      <td>Hindi</td>\n",
       "      <td>1970-01-01</td>\n",
       "      <td>1962-05-11</td>\n",
       "      <td>158.00</td>\n",
       "      <td>After a lusty Thakur rapes a young girl, she k...</td>\n",
       "      <td>Bees Saal Baad</td>\n",
       "      <td>6077.00</td>\n",
       "      <td>Dhruva Chatterjee, Dev Kishan</td>\n",
       "      <td>01 Jan, 1970</td>\n",
       "      <td>May 11 1962</td>\n",
       "    </tr>\n",
       "    <tr>\n",
       "      <th>20540</th>\n",
       "      <td>7.00</td>\n",
       "      <td>G</td>\n",
       "      <td>Guy Hamilton</td>\n",
       "      <td>2544.00</td>\n",
       "      <td>25548</td>\n",
       "      <td>Hollywood / English</td>\n",
       "      <td>English,German,Polish,French</td>\n",
       "      <td>1970-01-01</td>\n",
       "      <td>1969-09-17</td>\n",
       "      <td>132.00</td>\n",
       "      <td>Historical reenactment of the air war in the e...</td>\n",
       "      <td>Battle of Britain</td>\n",
       "      <td>9320.00</td>\n",
       "      <td>James Kennaway, Wilfred Greatorex, Derek Dempster</td>\n",
       "      <td>01 Jan, 1970</td>\n",
       "      <td>Sep 17 1969</td>\n",
       "    </tr>\n",
       "  </tbody>\n",
       "</table>\n",
       "<p>9902 rows × 16 columns</p>\n",
       "</div>\n",
       "      <button class=\"colab-df-convert\" onclick=\"convertToInteractive('df-06387959-a101-4070-b8d8-5d04fb67f622')\"\n",
       "              title=\"Convert this dataframe to an interactive table.\"\n",
       "              style=\"display:none;\">\n",
       "        \n",
       "  <svg xmlns=\"http://www.w3.org/2000/svg\" height=\"24px\"viewBox=\"0 0 24 24\"\n",
       "       width=\"24px\">\n",
       "    <path d=\"M0 0h24v24H0V0z\" fill=\"none\"/>\n",
       "    <path d=\"M18.56 5.44l.94 2.06.94-2.06 2.06-.94-2.06-.94-.94-2.06-.94 2.06-2.06.94zm-11 1L8.5 8.5l.94-2.06 2.06-.94-2.06-.94L8.5 2.5l-.94 2.06-2.06.94zm10 10l.94 2.06.94-2.06 2.06-.94-2.06-.94-.94-2.06-.94 2.06-2.06.94z\"/><path d=\"M17.41 7.96l-1.37-1.37c-.4-.4-.92-.59-1.43-.59-.52 0-1.04.2-1.43.59L10.3 9.45l-7.72 7.72c-.78.78-.78 2.05 0 2.83L4 21.41c.39.39.9.59 1.41.59.51 0 1.02-.2 1.41-.59l7.78-7.78 2.81-2.81c.8-.78.8-2.07 0-2.86zM5.41 20L4 18.59l7.72-7.72 1.47 1.35L5.41 20z\"/>\n",
       "  </svg>\n",
       "      </button>\n",
       "      \n",
       "  <style>\n",
       "    .colab-df-container {\n",
       "      display:flex;\n",
       "      flex-wrap:wrap;\n",
       "      gap: 12px;\n",
       "    }\n",
       "\n",
       "    .colab-df-convert {\n",
       "      background-color: #E8F0FE;\n",
       "      border: none;\n",
       "      border-radius: 50%;\n",
       "      cursor: pointer;\n",
       "      display: none;\n",
       "      fill: #1967D2;\n",
       "      height: 32px;\n",
       "      padding: 0 0 0 0;\n",
       "      width: 32px;\n",
       "    }\n",
       "\n",
       "    .colab-df-convert:hover {\n",
       "      background-color: #E2EBFA;\n",
       "      box-shadow: 0px 1px 2px rgba(60, 64, 67, 0.3), 0px 1px 3px 1px rgba(60, 64, 67, 0.15);\n",
       "      fill: #174EA6;\n",
       "    }\n",
       "\n",
       "    [theme=dark] .colab-df-convert {\n",
       "      background-color: #3B4455;\n",
       "      fill: #D2E3FC;\n",
       "    }\n",
       "\n",
       "    [theme=dark] .colab-df-convert:hover {\n",
       "      background-color: #434B5C;\n",
       "      box-shadow: 0px 1px 3px 1px rgba(0, 0, 0, 0.15);\n",
       "      filter: drop-shadow(0px 1px 2px rgba(0, 0, 0, 0.3));\n",
       "      fill: #FFFFFF;\n",
       "    }\n",
       "  </style>\n",
       "\n",
       "      <script>\n",
       "        const buttonEl =\n",
       "          document.querySelector('#df-06387959-a101-4070-b8d8-5d04fb67f622 button.colab-df-convert');\n",
       "        buttonEl.style.display =\n",
       "          google.colab.kernel.accessAllowed ? 'block' : 'none';\n",
       "\n",
       "        async function convertToInteractive(key) {\n",
       "          const element = document.querySelector('#df-06387959-a101-4070-b8d8-5d04fb67f622');\n",
       "          const dataTable =\n",
       "            await google.colab.kernel.invokeFunction('convertToInteractive',\n",
       "                                                     [key], {});\n",
       "          if (!dataTable) return;\n",
       "\n",
       "          const docLinkHtml = 'Like what you see? Visit the ' +\n",
       "            '<a target=\"_blank\" href=https://colab.research.google.com/notebooks/data_table.ipynb>data table notebook</a>'\n",
       "            + ' to learn more about interactive tables.';\n",
       "          element.innerHTML = '';\n",
       "          dataTable['output_type'] = 'display_data';\n",
       "          await google.colab.output.renderOutput(dataTable, element);\n",
       "          const docLink = document.createElement('div');\n",
       "          docLink.innerHTML = docLinkHtml;\n",
       "          element.appendChild(docLink);\n",
       "        }\n",
       "      </script>\n",
       "    </div>\n",
       "  </div>\n",
       "  "
      ],
      "text/plain": [
       "       imdb_rating appropriate_for                   director  downloads  \\\n",
       "0             4.80               R                  John Swab     304.00   \n",
       "1             6.40           TV-PG                Paul Ziller      73.00   \n",
       "2             5.20               R               Ben Wheatley    1427.00   \n",
       "7             6.50               R             Benjamin Caron    1781.00   \n",
       "8             6.90           PG-13                Ravi Kapoor     458.00   \n",
       "...            ...             ...                        ...        ...   \n",
       "20522         7.10       Not Rated                  Biren Nag    1932.00   \n",
       "20525         7.00               G               Guy Hamilton    2544.00   \n",
       "20533         5.60               R  Barbara Topsøe-Rothenborg   12284.00   \n",
       "20537         7.10       Not Rated                  Biren Nag    1932.00   \n",
       "20540         7.00               G               Guy Hamilton    2544.00   \n",
       "\n",
       "           id             industry                      language posted_date  \\\n",
       "0      372092  Hollywood / English                       English  2023-02-20   \n",
       "1      372091  Hollywood / English                       English  2023-02-20   \n",
       "2      343381  Hollywood / English                 English,Hindi  2021-04-20   \n",
       "7      371751  Hollywood / English                       English  2023-02-13   \n",
       "8      372042  Hollywood / English                       English  2023-02-18   \n",
       "...       ...                  ...                           ...         ...   \n",
       "20522   23825   Bollywood / Indian                         Hindi  1970-01-01   \n",
       "20525   25548  Hollywood / English  English,German,Polish,French  1970-01-01   \n",
       "20533    1173  Hollywood / English        Spanish,German,English  2016-05-26   \n",
       "20537   23825   Bollywood / Indian                         Hindi  1970-01-01   \n",
       "20540   25548  Hollywood / English  English,German,Polish,French  1970-01-01   \n",
       "\n",
       "      release_date  run_time  \\\n",
       "0       2023-01-28    105.00   \n",
       "1       2023-02-05     84.00   \n",
       "2       2021-06-18    107.00   \n",
       "7       2023-02-17    116.00   \n",
       "8       2022-12-02     80.00   \n",
       "...            ...       ...   \n",
       "20522   1962-05-11    158.00   \n",
       "20525   1969-09-17    132.00   \n",
       "20533   1970-01-01     90.00   \n",
       "20537   1962-05-11    158.00   \n",
       "20540   1969-09-17    132.00   \n",
       "\n",
       "                                               storyline  \\\n",
       "0      Doc\\r\\n facilitates a fragile truce between th...   \n",
       "1      Caterer\\r\\n Goldy Berry reunites with detectiv...   \n",
       "2      As the world searches for a cure to a disastro...   \n",
       "7      Motivations are suspect, and expectations are ...   \n",
       "8      An\\r\\n unmotivated South Asian American rapper...   \n",
       "...                                                  ...   \n",
       "20522  After a lusty Thakur rapes a young girl, she k...   \n",
       "20525  Historical reenactment of the air war in the e...   \n",
       "20533  LOVE AT FIRST HICCUP is a charming, innocent, ...   \n",
       "20537  After a lusty Thakur rapes a young girl, she k...   \n",
       "20540  Historical reenactment of the air war in the e...   \n",
       "\n",
       "                                            title    views  \\\n",
       "0                                    Little Dixie  2794.00   \n",
       "1      Grilling Season: A Curious Caterer Mystery  1002.00   \n",
       "2                                    In the Earth 14419.00   \n",
       "7                                         Sharper 18225.00   \n",
       "8                                    Four Samosas  6912.00   \n",
       "...                                           ...      ...   \n",
       "20522                              Bees Saal Baad  6076.00   \n",
       "20525                           Battle of Britain  9319.00   \n",
       "20533                        Love at First Hiccup 36022.00   \n",
       "20537                              Bees Saal Baad  6077.00   \n",
       "20540                           Battle of Britain  9320.00   \n",
       "\n",
       "                                                  writer old_posted_date  \\\n",
       "0                                              John Swab    20 Feb, 2023   \n",
       "1                                 John Christian Plummer    20 Feb, 2023   \n",
       "2                                           Ben Wheatley    20 Apr, 2021   \n",
       "7                      Brian Gatewood, Alessandro Tanaka    13 Feb, 2023   \n",
       "8                                            Ravi Kapoor    18 Feb, 2023   \n",
       "...                                                  ...             ...   \n",
       "20522                      Dhruva Chatterjee, Dev Kishan    01 Jan, 1970   \n",
       "20525  James Kennaway, Wilfred Greatorex, Derek Dempster    01 Jan, 1970   \n",
       "20533  Barbara Topsøe-Rothenborg, Søren Frellesen, De...    26 May, 2016   \n",
       "20537                      Dhruva Chatterjee, Dev Kishan    01 Jan, 1970   \n",
       "20540  James Kennaway, Wilfred Greatorex, Derek Dempster    01 Jan, 1970   \n",
       "\n",
       "      old_release_date  \n",
       "0          Jan 28 2023  \n",
       "1          Feb 05 2023  \n",
       "2          Jun 18 2021  \n",
       "7          Feb 17 2023  \n",
       "8          Dec 02 2022  \n",
       "...                ...  \n",
       "20522      May 11 1962  \n",
       "20525      Sep 17 1969  \n",
       "20533      Jan 01 1970  \n",
       "20537      May 11 1962  \n",
       "20540      Sep 17 1969  \n",
       "\n",
       "[9902 rows x 16 columns]"
      ]
     },
     "execution_count": 74,
     "metadata": {},
     "output_type": "execute_result"
    }
   ],
   "source": [
    "new_data"
   ]
  },
  {
   "cell_type": "markdown",
   "id": "a6b4f356",
   "metadata": {
    "id": "a6b4f356",
    "papermill": {
     "duration": 0.015502,
     "end_time": "2023-03-27T05:53:41.660326",
     "exception": false,
     "start_time": "2023-03-27T05:53:41.644824",
     "status": "completed"
    },
    "tags": []
   },
   "source": [
    "#### 标称属性变化"
   ]
  },
  {
   "cell_type": "code",
   "execution_count": 75,
   "id": "bc6c7817",
   "metadata": {
    "colab": {
     "base_uri": "https://localhost:8080/",
     "height": 950
    },
    "execution": {
     "iopub.execute_input": "2023-03-27T05:53:41.691859Z",
     "iopub.status.busy": "2023-03-27T05:53:41.691463Z",
     "iopub.status.idle": "2023-03-27T05:53:42.612348Z",
     "shell.execute_reply": "2023-03-27T05:53:42.611252Z"
    },
    "id": "bc6c7817",
    "outputId": "b7c2ff98-a013-4efc-bd84-dc6b7cd4bb75",
    "papermill": {
     "duration": 0.939049,
     "end_time": "2023-03-27T05:53:42.614513",
     "exception": false,
     "start_time": "2023-03-27T05:53:41.675464",
     "status": "completed"
    },
    "tags": []
   },
   "outputs": [
    {
     "data": {
      "image/png": "[encoded data removed]",
      "text/plain": [
       "<Figure size 800x800 with 5 Axes>"
      ]
     },
     "metadata": {
      "needs_background": "light"
     },
     "output_type": "display_data"
    }
   ],
   "source": [
    "index = 1\n",
    "plt.figure(figsize=(10,10), dpi=80).subplots_adjust(hspace=1)\n",
    "plt.figure(1)\n",
    "col = 2\n",
    "row = int(len(nominals) / col) + 1\n",
    "for attr in nominals:\n",
    "    plt.subplot(row, col, index)\n",
    "    index += 1\n",
    "    freq = 10\n",
    "    new_data[attr].value_counts().head(freq).plot.bar()\n",
    "    plt.title(attr + ': frequency of top {}'.format(freq))"
   ]
  },
  {
   "cell_type": "markdown",
   "id": "53811670",
   "metadata": {
    "id": "53811670",
    "papermill": {
     "duration": 0.015149,
     "end_time": "2023-03-27T05:53:42.644694",
     "exception": false,
     "start_time": "2023-03-27T05:53:42.629545",
     "status": "completed"
    },
    "tags": []
   },
   "source": [
    "#### 数值属性变化"
   ]
  },
  {
   "cell_type": "code",
   "execution_count": 76,
   "id": "36088d47",
   "metadata": {
    "colab": {
     "base_uri": "https://localhost:8080/",
     "height": 2441
    },
    "execution": {
     "iopub.execute_input": "2023-03-27T05:53:42.678419Z",
     "iopub.status.busy": "2023-03-27T05:53:42.677385Z",
     "iopub.status.idle": "2023-03-27T05:53:43.327761Z",
     "shell.execute_reply": "2023-03-27T05:53:43.326664Z"
    },
    "id": "36088d47",
    "outputId": "aac0c41b-3147-4c00-863d-d71a44fb6f22",
    "papermill": {
     "duration": 0.669726,
     "end_time": "2023-03-27T05:53:43.330152",
     "exception": false,
     "start_time": "2023-03-27T05:53:42.660426",
     "status": "completed"
    },
    "tags": []
   },
   "outputs": [
    {
     "name": "stdout",
     "output_type": "stream",
     "text": [
      "release_date\n",
      "count   9902.00\n",
      "mean    2013.67\n",
      "std       10.98\n",
      "min     1931.00\n",
      "25%     2012.00\n",
      "50%     2016.00\n",
      "75%     2020.00\n",
      "max     2023.00\n",
      "Name: release_date, dtype: float64\n"
     ]
    },
    {
     "data": {
      "image/png": "[encoded data removed]",
      "text/plain": [
       "<Figure size 432x288 with 1 Axes>"
      ]
     },
     "metadata": {
      "needs_background": "light"
     },
     "output_type": "display_data"
    },
    {
     "name": "stdout",
     "output_type": "stream",
     "text": [
      "posted_date\n",
      "count   9902.00\n",
      "mean    2016.27\n",
      "std        5.87\n",
      "min     1970.00\n",
      "25%     2013.00\n",
      "50%     2017.00\n",
      "75%     2021.00\n",
      "max     2023.00\n",
      "Name: posted_date, dtype: float64\n"
     ]
    },
    {
     "data": {
      "image/png": "[encoded data removed]",
      "text/plain": [
       "<Figure size 432x288 with 1 Axes>"
      ]
     },
     "metadata": {
      "needs_background": "light"
     },
     "output_type": "display_data"
    },
    {
     "name": "stdout",
     "output_type": "stream",
     "text": [
      "imdb_rating\n",
      "count   9902.00\n",
      "mean       5.88\n",
      "std        1.20\n",
      "min        1.10\n",
      "25%        5.20\n",
      "50%        6.00\n",
      "75%        6.67\n",
      "max        9.30\n",
      "Name: imdb_rating, dtype: float64\n"
     ]
    },
    {
     "data": {
      "image/png": "[encoded data removed]",
      "text/plain": [
       "<Figure size 432x288 with 1 Axes>"
      ]
     },
     "metadata": {
      "needs_background": "light"
     },
     "output_type": "display_data"
    },
    {
     "name": "stdout",
     "output_type": "stream",
     "text": [
      "downloads\n",
      "count     9902.00\n",
      "mean     16154.57\n",
      "std      31018.63\n",
      "min          0.00\n",
      "25%       1340.25\n",
      "50%       4473.00\n",
      "75%      16538.50\n",
      "max     391272.00\n",
      "Name: downloads, dtype: float64\n"
     ]
    },
    {
     "data": {
      "image/png": "[encoded data removed]",
      "text/plain": [
       "<Figure size 432x288 with 1 Axes>"
      ]
     },
     "metadata": {
      "needs_background": "light"
     },
     "output_type": "display_data"
    },
    {
     "name": "stdout",
     "output_type": "stream",
     "text": [
      "run_time\n",
      "count   9902.00\n",
      "mean     106.91\n",
      "std       22.73\n",
      "min       21.00\n",
      "25%       91.00\n",
      "50%      101.00\n",
      "75%      116.00\n",
      "max      321.00\n",
      "Name: run_time, dtype: float64\n"
     ]
    },
    {
     "data": {
      "image/png": "[encoded data removed]",
      "text/plain": [
       "<Figure size 432x288 with 1 Axes>"
      ]
     },
     "metadata": {
      "needs_background": "light"
     },
     "output_type": "display_data"
    },
    {
     "name": "stdout",
     "output_type": "stream",
     "text": [
      "views\n",
      "count      9902.00\n",
      "mean      49980.30\n",
      "std       81018.37\n",
      "min        1002.00\n",
      "25%       10234.50\n",
      "50%       22258.00\n",
      "75%       54012.25\n",
      "max     1638533.00\n",
      "Name: views, dtype: float64\n"
     ]
    },
    {
     "data": {
      "image/png": "[encoded data removed]",
      "text/plain": [
       "<Figure size 432x288 with 1 Axes>"
      ]
     },
     "metadata": {
      "needs_background": "light"
     },
     "output_type": "display_data"
    }
   ],
   "source": [
    "attrs = ['release_date', 'posted_date', 'imdb_rating', 'downloads', 'run_time', 'views']\n",
    "for attr in attrs:\n",
    "  print(attr)\n",
    "  try:\n",
    "    print(new_data[attr].dt.year.describe())\n",
    "    visit = pd.DataFrame(data[attr].dt.year)\n",
    "  except:\n",
    "    print(new_data[attr].describe())\n",
    "    visit = pd.DataFrame(data[attr])\n",
    "  \n",
    "  visit.plot.box()\n",
    "  plt.title(attr + ': box')\n",
    "  # plt.show()"
   ]
  },
  {
   "cell_type": "markdown",
   "id": "79800527",
   "metadata": {
    "id": "79800527",
    "papermill": {
     "duration": 0.018111,
     "end_time": "2023-03-27T05:53:43.366839",
     "exception": false,
     "start_time": "2023-03-27T05:53:43.348728",
     "status": "completed"
    },
    "tags": []
   },
   "source": [
    "### 最高频率值填补"
   ]
  },
  {
   "cell_type": "code",
   "execution_count": 77,
   "id": "026bcf7f",
   "metadata": {
    "colab": {
     "base_uri": "https://localhost:8080/",
     "height": 1165
    },
    "execution": {
     "iopub.execute_input": "2023-03-27T05:53:43.406016Z",
     "iopub.status.busy": "2023-03-27T05:53:43.405656Z",
     "iopub.status.idle": "2023-03-27T05:53:43.461488Z",
     "shell.execute_reply": "2023-03-27T05:53:43.460524Z"
    },
    "id": "026bcf7f",
    "outputId": "b25088b4-ae7b-4f40-f961-7a664073d22e",
    "papermill": {
     "duration": 0.077403,
     "end_time": "2023-03-27T05:53:43.463556",
     "exception": false,
     "start_time": "2023-03-27T05:53:43.386153",
     "status": "completed"
    },
    "tags": []
   },
   "outputs": [
    {
     "data": {
      "text/html": [
       "\n",
       "  <div id=\"df-10fd0e46-c265-4a5d-b8b5-9612a343e092\">\n",
       "    <div class=\"colab-df-container\">\n",
       "      <div>\n",
       "<style scoped>\n",
       "    .dataframe tbody tr th:only-of-type {\n",
       "        vertical-align: middle;\n",
       "    }\n",
       "\n",
       "    .dataframe tbody tr th {\n",
       "        vertical-align: top;\n",
       "    }\n",
       "\n",
       "    .dataframe thead th {\n",
       "        text-align: right;\n",
       "    }\n",
       "</style>\n",
       "<table border=\"1\" class=\"dataframe\">\n",
       "  <thead>\n",
       "    <tr style=\"text-align: right;\">\n",
       "      <th></th>\n",
       "      <th>imdb_rating</th>\n",
       "      <th>appropriate_for</th>\n",
       "      <th>director</th>\n",
       "      <th>downloads</th>\n",
       "      <th>id</th>\n",
       "      <th>industry</th>\n",
       "      <th>language</th>\n",
       "      <th>posted_date</th>\n",
       "      <th>release_date</th>\n",
       "      <th>run_time</th>\n",
       "      <th>storyline</th>\n",
       "      <th>title</th>\n",
       "      <th>views</th>\n",
       "      <th>writer</th>\n",
       "      <th>old_posted_date</th>\n",
       "      <th>old_release_date</th>\n",
       "    </tr>\n",
       "  </thead>\n",
       "  <tbody>\n",
       "    <tr>\n",
       "      <th>0</th>\n",
       "      <td>4.80</td>\n",
       "      <td>R</td>\n",
       "      <td>John Swab</td>\n",
       "      <td>304.00</td>\n",
       "      <td>372092</td>\n",
       "      <td>Hollywood / English</td>\n",
       "      <td>English</td>\n",
       "      <td>2023-02-20</td>\n",
       "      <td>2023-01-28</td>\n",
       "      <td>105.00</td>\n",
       "      <td>Doc\\r\\n facilitates a fragile truce between th...</td>\n",
       "      <td>Little Dixie</td>\n",
       "      <td>2794.00</td>\n",
       "      <td>John Swab</td>\n",
       "      <td>20 Feb, 2023</td>\n",
       "      <td>Jan 28 2023</td>\n",
       "    </tr>\n",
       "    <tr>\n",
       "      <th>1</th>\n",
       "      <td>6.40</td>\n",
       "      <td>TV-PG</td>\n",
       "      <td>Paul Ziller</td>\n",
       "      <td>73.00</td>\n",
       "      <td>372091</td>\n",
       "      <td>Hollywood / English</td>\n",
       "      <td>English</td>\n",
       "      <td>2023-02-20</td>\n",
       "      <td>2023-02-05</td>\n",
       "      <td>84.00</td>\n",
       "      <td>Caterer\\r\\n Goldy Berry reunites with detectiv...</td>\n",
       "      <td>Grilling Season: A Curious Caterer Mystery</td>\n",
       "      <td>1002.00</td>\n",
       "      <td>John Christian Plummer</td>\n",
       "      <td>20 Feb, 2023</td>\n",
       "      <td>Feb 05 2023</td>\n",
       "    </tr>\n",
       "    <tr>\n",
       "      <th>2</th>\n",
       "      <td>5.20</td>\n",
       "      <td>R</td>\n",
       "      <td>Ben Wheatley</td>\n",
       "      <td>1427.00</td>\n",
       "      <td>343381</td>\n",
       "      <td>Hollywood / English</td>\n",
       "      <td>English,Hindi</td>\n",
       "      <td>2021-04-20</td>\n",
       "      <td>2021-06-18</td>\n",
       "      <td>107.00</td>\n",
       "      <td>As the world searches for a cure to a disastro...</td>\n",
       "      <td>In the Earth</td>\n",
       "      <td>14419.00</td>\n",
       "      <td>Ben Wheatley</td>\n",
       "      <td>20 Apr, 2021</td>\n",
       "      <td>Jun 18 2021</td>\n",
       "    </tr>\n",
       "    <tr>\n",
       "      <th>3</th>\n",
       "      <td>8.10</td>\n",
       "      <td>R</td>\n",
       "      <td>Venky Atluri</td>\n",
       "      <td>1549.00</td>\n",
       "      <td>372090</td>\n",
       "      <td>Tollywood</td>\n",
       "      <td>Hindi</td>\n",
       "      <td>2023-02-20</td>\n",
       "      <td>2023-02-17</td>\n",
       "      <td>139.00</td>\n",
       "      <td>The life of a young man and his struggles agai...</td>\n",
       "      <td>Vaathi</td>\n",
       "      <td>4878.00</td>\n",
       "      <td>Venky Atluri</td>\n",
       "      <td>20 Feb, 2023</td>\n",
       "      <td>Feb 17 2023</td>\n",
       "    </tr>\n",
       "    <tr>\n",
       "      <th>4</th>\n",
       "      <td>4.60</td>\n",
       "      <td>R</td>\n",
       "      <td>Shaji Kailas</td>\n",
       "      <td>657.00</td>\n",
       "      <td>372089</td>\n",
       "      <td>Tollywood</td>\n",
       "      <td>Hindi</td>\n",
       "      <td>2023-02-20</td>\n",
       "      <td>2023-01-26</td>\n",
       "      <td>122.00</td>\n",
       "      <td>A man named Kalidas gets stranded due to the p...</td>\n",
       "      <td>Alone</td>\n",
       "      <td>2438.00</td>\n",
       "      <td>Rajesh Jayaraman</td>\n",
       "      <td>20 Feb, 2023</td>\n",
       "      <td>Jan 26 2023</td>\n",
       "    </tr>\n",
       "    <tr>\n",
       "      <th>...</th>\n",
       "      <td>...</td>\n",
       "      <td>...</td>\n",
       "      <td>...</td>\n",
       "      <td>...</td>\n",
       "      <td>...</td>\n",
       "      <td>...</td>\n",
       "      <td>...</td>\n",
       "      <td>...</td>\n",
       "      <td>...</td>\n",
       "      <td>...</td>\n",
       "      <td>...</td>\n",
       "      <td>...</td>\n",
       "      <td>...</td>\n",
       "      <td>...</td>\n",
       "      <td>...</td>\n",
       "      <td>...</td>\n",
       "    </tr>\n",
       "    <tr>\n",
       "      <th>20543</th>\n",
       "      <td>6.60</td>\n",
       "      <td>R</td>\n",
       "      <td>Venky Atluri</td>\n",
       "      <td>1998.00</td>\n",
       "      <td>28957</td>\n",
       "      <td>Bollywood / Indian</td>\n",
       "      <td>Hindi</td>\n",
       "      <td>1970-01-01</td>\n",
       "      <td>1959-03-13</td>\n",
       "      <td>90.00</td>\n",
       "      <td>NaN</td>\n",
       "      <td>Bhai-Bahen</td>\n",
       "      <td>6219.00</td>\n",
       "      <td>Nicholas Schutt</td>\n",
       "      <td>01 Jan, 1970</td>\n",
       "      <td>Mar 13 1959</td>\n",
       "    </tr>\n",
       "    <tr>\n",
       "      <th>20544</th>\n",
       "      <td>7.70</td>\n",
       "      <td>R</td>\n",
       "      <td>Bimal Roy</td>\n",
       "      <td>6080.00</td>\n",
       "      <td>28958</td>\n",
       "      <td>Bollywood / Indian</td>\n",
       "      <td>Hindi</td>\n",
       "      <td>1970-01-01</td>\n",
       "      <td>1955-05-13</td>\n",
       "      <td>159.00</td>\n",
       "      <td>Devdas and Parvati had been inseparable as chi...</td>\n",
       "      <td>Devdas</td>\n",
       "      <td>16376.00</td>\n",
       "      <td>Rajinder Singh Bedi, Saratchandra Chatterjee, ...</td>\n",
       "      <td>01 Jan, 1970</td>\n",
       "      <td>May 13 1955</td>\n",
       "    </tr>\n",
       "    <tr>\n",
       "      <th>20545</th>\n",
       "      <td>8.00</td>\n",
       "      <td>R</td>\n",
       "      <td>Venky Atluri</td>\n",
       "      <td>3276.00</td>\n",
       "      <td>30459</td>\n",
       "      <td>Bollywood / Indian</td>\n",
       "      <td>Hindi</td>\n",
       "      <td>1970-01-01</td>\n",
       "      <td>1958-03-28</td>\n",
       "      <td>110.00</td>\n",
       "      <td>While driving his car on a rainy night, Anand'...</td>\n",
       "      <td>Madhumati</td>\n",
       "      <td>7220.00</td>\n",
       "      <td>Nicholas Schutt</td>\n",
       "      <td>01 Jan, 1970</td>\n",
       "      <td>Mar 28 1958</td>\n",
       "    </tr>\n",
       "    <tr>\n",
       "      <th>20546</th>\n",
       "      <td>6.60</td>\n",
       "      <td>R</td>\n",
       "      <td>Venky Atluri</td>\n",
       "      <td>309.00</td>\n",
       "      <td>371669</td>\n",
       "      <td>Wrestling</td>\n",
       "      <td>English</td>\n",
       "      <td>2023-02-10</td>\n",
       "      <td>2023-02-09</td>\n",
       "      <td>90.00</td>\n",
       "      <td>NaN</td>\n",
       "      <td>TNA.Impact 2023-02-09</td>\n",
       "      <td>1419.00</td>\n",
       "      <td>Nicholas Schutt</td>\n",
       "      <td>10 Feb, 2023</td>\n",
       "      <td>Feb 09 2023</td>\n",
       "    </tr>\n",
       "    <tr>\n",
       "      <th>20547</th>\n",
       "      <td>6.60</td>\n",
       "      <td>R</td>\n",
       "      <td>Venky Atluri</td>\n",
       "      <td>2613.00</td>\n",
       "      <td>371816</td>\n",
       "      <td>Wrestling</td>\n",
       "      <td>English</td>\n",
       "      <td>2023-02-14</td>\n",
       "      <td>2023-02-13</td>\n",
       "      <td>90.00</td>\n",
       "      <td>NaN</td>\n",
       "      <td>WWE Raw 2023-02-13</td>\n",
       "      <td>6697.00</td>\n",
       "      <td>Nicholas Schutt</td>\n",
       "      <td>14 Feb, 2023</td>\n",
       "      <td>Feb 13 2023</td>\n",
       "    </tr>\n",
       "  </tbody>\n",
       "</table>\n",
       "<p>20548 rows × 16 columns</p>\n",
       "</div>\n",
       "      <button class=\"colab-df-convert\" onclick=\"convertToInteractive('df-10fd0e46-c265-4a5d-b8b5-9612a343e092')\"\n",
       "              title=\"Convert this dataframe to an interactive table.\"\n",
       "              style=\"display:none;\">\n",
       "        \n",
       "  <svg xmlns=\"http://www.w3.org/2000/svg\" height=\"24px\"viewBox=\"0 0 24 24\"\n",
       "       width=\"24px\">\n",
       "    <path d=\"M0 0h24v24H0V0z\" fill=\"none\"/>\n",
       "    <path d=\"M18.56 5.44l.94 2.06.94-2.06 2.06-.94-2.06-.94-.94-2.06-.94 2.06-2.06.94zm-11 1L8.5 8.5l.94-2.06 2.06-.94-2.06-.94L8.5 2.5l-.94 2.06-2.06.94zm10 10l.94 2.06.94-2.06 2.06-.94-2.06-.94-.94-2.06-.94 2.06-2.06.94z\"/><path d=\"M17.41 7.96l-1.37-1.37c-.4-.4-.92-.59-1.43-.59-.52 0-1.04.2-1.43.59L10.3 9.45l-7.72 7.72c-.78.78-.78 2.05 0 2.83L4 21.41c.39.39.9.59 1.41.59.51 0 1.02-.2 1.41-.59l7.78-7.78 2.81-2.81c.8-.78.8-2.07 0-2.86zM5.41 20L4 18.59l7.72-7.72 1.47 1.35L5.41 20z\"/>\n",
       "  </svg>\n",
       "      </button>\n",
       "      \n",
       "  <style>\n",
       "    .colab-df-container {\n",
       "      display:flex;\n",
       "      flex-wrap:wrap;\n",
       "      gap: 12px;\n",
       "    }\n",
       "\n",
       "    .colab-df-convert {\n",
       "      background-color: #E8F0FE;\n",
       "      border: none;\n",
       "      border-radius: 50%;\n",
       "      cursor: pointer;\n",
       "      display: none;\n",
       "      fill: #1967D2;\n",
       "      height: 32px;\n",
       "      padding: 0 0 0 0;\n",
       "      width: 32px;\n",
       "    }\n",
       "\n",
       "    .colab-df-convert:hover {\n",
       "      background-color: #E2EBFA;\n",
       "      box-shadow: 0px 1px 2px rgba(60, 64, 67, 0.3), 0px 1px 3px 1px rgba(60, 64, 67, 0.15);\n",
       "      fill: #174EA6;\n",
       "    }\n",
       "\n",
       "    [theme=dark] .colab-df-convert {\n",
       "      background-color: #3B4455;\n",
       "      fill: #D2E3FC;\n",
       "    }\n",
       "\n",
       "    [theme=dark] .colab-df-convert:hover {\n",
       "      background-color: #434B5C;\n",
       "      box-shadow: 0px 1px 3px 1px rgba(0, 0, 0, 0.15);\n",
       "      filter: drop-shadow(0px 1px 2px rgba(0, 0, 0, 0.3));\n",
       "      fill: #FFFFFF;\n",
       "    }\n",
       "  </style>\n",
       "\n",
       "      <script>\n",
       "        const buttonEl =\n",
       "          document.querySelector('#df-10fd0e46-c265-4a5d-b8b5-9612a343e092 button.colab-df-convert');\n",
       "        buttonEl.style.display =\n",
       "          google.colab.kernel.accessAllowed ? 'block' : 'none';\n",
       "\n",
       "        async function convertToInteractive(key) {\n",
       "          const element = document.querySelector('#df-10fd0e46-c265-4a5d-b8b5-9612a343e092');\n",
       "          const dataTable =\n",
       "            await google.colab.kernel.invokeFunction('convertToInteractive',\n",
       "                                                     [key], {});\n",
       "          if (!dataTable) return;\n",
       "\n",
       "          const docLinkHtml = 'Like what you see? Visit the ' +\n",
       "            '<a target=\"_blank\" href=https://colab.research.google.com/notebooks/data_table.ipynb>data table notebook</a>'\n",
       "            + ' to learn more about interactive tables.';\n",
       "          element.innerHTML = '';\n",
       "          dataTable['output_type'] = 'display_data';\n",
       "          await google.colab.output.renderOutput(dataTable, element);\n",
       "          const docLink = document.createElement('div');\n",
       "          docLink.innerHTML = docLinkHtml;\n",
       "          element.appendChild(docLink);\n",
       "        }\n",
       "      </script>\n",
       "    </div>\n",
       "  </div>\n",
       "  "
      ],
      "text/plain": [
       "       imdb_rating appropriate_for      director  downloads      id  \\\n",
       "0             4.80               R     John Swab     304.00  372092   \n",
       "1             6.40           TV-PG   Paul Ziller      73.00  372091   \n",
       "2             5.20               R  Ben Wheatley    1427.00  343381   \n",
       "3             8.10               R  Venky Atluri    1549.00  372090   \n",
       "4             4.60               R  Shaji Kailas     657.00  372089   \n",
       "...            ...             ...           ...        ...     ...   \n",
       "20543         6.60               R  Venky Atluri    1998.00   28957   \n",
       "20544         7.70               R     Bimal Roy    6080.00   28958   \n",
       "20545         8.00               R  Venky Atluri    3276.00   30459   \n",
       "20546         6.60               R  Venky Atluri     309.00  371669   \n",
       "20547         6.60               R  Venky Atluri    2613.00  371816   \n",
       "\n",
       "                  industry       language posted_date release_date  run_time  \\\n",
       "0      Hollywood / English        English  2023-02-20   2023-01-28    105.00   \n",
       "1      Hollywood / English        English  2023-02-20   2023-02-05     84.00   \n",
       "2      Hollywood / English  English,Hindi  2021-04-20   2021-06-18    107.00   \n",
       "3                Tollywood          Hindi  2023-02-20   2023-02-17    139.00   \n",
       "4                Tollywood          Hindi  2023-02-20   2023-01-26    122.00   \n",
       "...                    ...            ...         ...          ...       ...   \n",
       "20543   Bollywood / Indian          Hindi  1970-01-01   1959-03-13     90.00   \n",
       "20544   Bollywood / Indian          Hindi  1970-01-01   1955-05-13    159.00   \n",
       "20545   Bollywood / Indian          Hindi  1970-01-01   1958-03-28    110.00   \n",
       "20546            Wrestling        English  2023-02-10   2023-02-09     90.00   \n",
       "20547            Wrestling        English  2023-02-14   2023-02-13     90.00   \n",
       "\n",
       "                                               storyline  \\\n",
       "0      Doc\\r\\n facilitates a fragile truce between th...   \n",
       "1      Caterer\\r\\n Goldy Berry reunites with detectiv...   \n",
       "2      As the world searches for a cure to a disastro...   \n",
       "3      The life of a young man and his struggles agai...   \n",
       "4      A man named Kalidas gets stranded due to the p...   \n",
       "...                                                  ...   \n",
       "20543                                                NaN   \n",
       "20544  Devdas and Parvati had been inseparable as chi...   \n",
       "20545  While driving his car on a rainy night, Anand'...   \n",
       "20546                                                NaN   \n",
       "20547                                                NaN   \n",
       "\n",
       "                                            title    views  \\\n",
       "0                                    Little Dixie  2794.00   \n",
       "1      Grilling Season: A Curious Caterer Mystery  1002.00   \n",
       "2                                    In the Earth 14419.00   \n",
       "3                                          Vaathi  4878.00   \n",
       "4                                           Alone  2438.00   \n",
       "...                                           ...      ...   \n",
       "20543                                  Bhai-Bahen  6219.00   \n",
       "20544                                      Devdas 16376.00   \n",
       "20545                                   Madhumati  7220.00   \n",
       "20546                       TNA.Impact 2023-02-09  1419.00   \n",
       "20547                          WWE Raw 2023-02-13  6697.00   \n",
       "\n",
       "                                                  writer old_posted_date  \\\n",
       "0                                              John Swab    20 Feb, 2023   \n",
       "1                                 John Christian Plummer    20 Feb, 2023   \n",
       "2                                           Ben Wheatley    20 Apr, 2021   \n",
       "3                                           Venky Atluri    20 Feb, 2023   \n",
       "4                                       Rajesh Jayaraman    20 Feb, 2023   \n",
       "...                                                  ...             ...   \n",
       "20543                                    Nicholas Schutt    01 Jan, 1970   \n",
       "20544  Rajinder Singh Bedi, Saratchandra Chatterjee, ...    01 Jan, 1970   \n",
       "20545                                    Nicholas Schutt    01 Jan, 1970   \n",
       "20546                                    Nicholas Schutt    10 Feb, 2023   \n",
       "20547                                    Nicholas Schutt    14 Feb, 2023   \n",
       "\n",
       "      old_release_date  \n",
       "0          Jan 28 2023  \n",
       "1          Feb 05 2023  \n",
       "2          Jun 18 2021  \n",
       "3          Feb 17 2023  \n",
       "4          Jan 26 2023  \n",
       "...                ...  \n",
       "20543      Mar 13 1959  \n",
       "20544      May 13 1955  \n",
       "20545      Mar 28 1958  \n",
       "20546      Feb 09 2023  \n",
       "20547      Feb 13 2023  \n",
       "\n",
       "[20548 rows x 16 columns]"
      ]
     },
     "execution_count": 77,
     "metadata": {},
     "output_type": "execute_result"
    }
   ],
   "source": [
    "attrs = nominals + numerics\n",
    "new_data = data.copy(deep=True)\n",
    "for attr in attrs:\n",
    "    most = data[attr].value_counts().index[0]\n",
    "    new_data[attr] = data[attr].fillna(most)\n",
    "new_data"
   ]
  },
  {
   "cell_type": "markdown",
   "id": "f7d4399c",
   "metadata": {
    "id": "f7d4399c",
    "papermill": {
     "duration": 0.018646,
     "end_time": "2023-03-27T05:53:43.500818",
     "exception": false,
     "start_time": "2023-03-27T05:53:43.482172",
     "status": "completed"
    },
    "tags": []
   },
   "source": [
    "#### 标称属性变化"
   ]
  },
  {
   "cell_type": "code",
   "execution_count": 78,
   "id": "8f6ec13f",
   "metadata": {
    "colab": {
     "base_uri": "https://localhost:8080/",
     "height": 928
    },
    "execution": {
     "iopub.execute_input": "2023-03-27T05:53:43.540059Z",
     "iopub.status.busy": "2023-03-27T05:53:43.539272Z",
     "iopub.status.idle": "2023-03-27T05:53:44.276599Z",
     "shell.execute_reply": "2023-03-27T05:53:44.275611Z"
    },
    "id": "8f6ec13f",
    "outputId": "76c766f8-7044-4909-e938-dd74e24eca7a",
    "papermill": {
     "duration": 0.759034,
     "end_time": "2023-03-27T05:53:44.278673",
     "exception": false,
     "start_time": "2023-03-27T05:53:43.519639",
     "status": "completed"
    },
    "tags": []
   },
   "outputs": [
    {
     "data": {
      "image/png": "[encoded data removed]",
      "text/plain": [
       "<Figure size 800x800 with 5 Axes>"
      ]
     },
     "metadata": {
      "needs_background": "light"
     },
     "output_type": "display_data"
    }
   ],
   "source": [
    "index = 1\n",
    "plt.figure(figsize=(10,10), dpi=80).subplots_adjust(hspace=1)\n",
    "plt.figure(1)\n",
    "col = 2\n",
    "row = int(len(nominals) / col) + 1\n",
    "for attr in nominals:\n",
    "    plt.subplot(row, col, index)\n",
    "    index += 1\n",
    "    freq = 10\n",
    "    new_data[attr].value_counts().head(freq).plot.bar()\n",
    "    plt.title(f'{attr}: frequency of top {freq}')"
   ]
  },
  {
   "cell_type": "markdown",
   "id": "7f6295dd",
   "metadata": {
    "id": "7f6295dd",
    "papermill": {
     "duration": 0.020164,
     "end_time": "2023-03-27T05:53:44.318839",
     "exception": false,
     "start_time": "2023-03-27T05:53:44.298675",
     "status": "completed"
    },
    "tags": []
   },
   "source": [
    "#### 数值属性变化"
   ]
  },
  {
   "cell_type": "code",
   "execution_count": 79,
   "id": "afea93e4",
   "metadata": {
    "colab": {
     "base_uri": "https://localhost:8080/",
     "height": 2441
    },
    "execution": {
     "iopub.execute_input": "2023-03-27T05:53:44.360172Z",
     "iopub.status.busy": "2023-03-27T05:53:44.359836Z",
     "iopub.status.idle": "2023-03-27T05:53:45.142910Z",
     "shell.execute_reply": "2023-03-27T05:53:45.142090Z"
    },
    "id": "afea93e4",
    "outputId": "3f39fd3a-4882-4de9-ae3a-b53d9aeb7eea",
    "papermill": {
     "duration": 0.806497,
     "end_time": "2023-03-27T05:53:45.145318",
     "exception": false,
     "start_time": "2023-03-27T05:53:44.338821",
     "status": "completed"
    },
    "tags": []
   },
   "outputs": [
    {
     "name": "stdout",
     "output_type": "stream",
     "text": [
      "release_date\n",
      "count   20548.00\n",
      "mean     2013.69\n",
      "std        12.77\n",
      "min      1921.00\n",
      "25%      2013.00\n",
      "50%      2017.00\n",
      "75%      2021.00\n",
      "max      2023.00\n",
      "Name: release_date, dtype: float64\n"
     ]
    },
    {
     "data": {
      "image/png": "[encoded data removed]",
      "text/plain": [
       "<Figure size 432x288 with 1 Axes>"
      ]
     },
     "metadata": {
      "needs_background": "light"
     },
     "output_type": "display_data"
    },
    {
     "name": "stdout",
     "output_type": "stream",
     "text": [
      "posted_date\n",
      "count   20548.00\n",
      "mean     2017.00\n",
      "std         6.10\n",
      "min      1970.00\n",
      "25%      2014.00\n",
      "50%      2018.00\n",
      "75%      2022.00\n",
      "max      2023.00\n",
      "Name: posted_date, dtype: float64\n"
     ]
    },
    {
     "data": {
      "image/png": "[encoded data removed]",
      "text/plain": [
       "<Figure size 432x288 with 1 Axes>"
      ]
     },
     "metadata": {
      "needs_background": "light"
     },
     "output_type": "display_data"
    },
    {
     "name": "stdout",
     "output_type": "stream",
     "text": [
      "imdb_rating\n",
      "count   20548.00\n",
      "mean        5.80\n",
      "std         1.36\n",
      "min         1.10\n",
      "25%         4.90\n",
      "50%         5.80\n",
      "75%         6.60\n",
      "max         9.90\n",
      "Name: imdb_rating, dtype: float64\n"
     ]
    },
    {
     "data": {
      "image/png": "[encoded data removed]",
      "text/plain": [
       "<Figure size 432x288 with 1 Axes>"
      ]
     },
     "metadata": {
      "needs_background": "light"
     },
     "output_type": "display_data"
    },
    {
     "name": "stdout",
     "output_type": "stream",
     "text": [
      "downloads\n",
      "count    20548.00\n",
      "mean     10794.72\n",
      "std      23715.72\n",
      "min          0.00\n",
      "25%        854.75\n",
      "50%       2716.00\n",
      "75%      10069.50\n",
      "max     391272.00\n",
      "Name: downloads, dtype: float64\n"
     ]
    },
    {
     "data": {
      "image/png": "[encoded data removed]",
      "text/plain": [
       "<Figure size 432x288 with 1 Axes>"
      ]
     },
     "metadata": {
      "needs_background": "light"
     },
     "output_type": "display_data"
    },
    {
     "name": "stdout",
     "output_type": "stream",
     "text": [
      "run_time\n",
      "count   20548.00\n",
      "mean      104.80\n",
      "std        23.05\n",
      "min         2.00\n",
      "25%        90.00\n",
      "50%        98.00\n",
      "75%       114.00\n",
      "max       321.00\n",
      "Name: run_time, dtype: float64\n"
     ]
    },
    {
     "data": {
      "image/png": "[encoded data removed]",
      "text/plain": [
       "<Figure size 432x288 with 1 Axes>"
      ]
     },
     "metadata": {
      "needs_background": "light"
     },
     "output_type": "display_data"
    },
    {
     "name": "stdout",
     "output_type": "stream",
     "text": [
      "views\n",
      "count     20548.00\n",
      "mean      35594.08\n",
      "std       62471.24\n",
      "min         667.00\n",
      "25%        7571.00\n",
      "50%       15221.50\n",
      "75%       36569.50\n",
      "max     1638533.00\n",
      "Name: views, dtype: float64\n"
     ]
    },
    {
     "data": {
      "image/png": "[encoded data removed]",
      "text/plain": [
       "<Figure size 432x288 with 1 Axes>"
      ]
     },
     "metadata": {
      "needs_background": "light"
     },
     "output_type": "display_data"
    }
   ],
   "source": [
    "attrs = ['release_date', 'posted_date', 'imdb_rating', 'downloads', 'run_time', 'views']\n",
    "for attr in attrs:\n",
    "  print(attr)\n",
    "  try:\n",
    "    print(new_data[attr].dt.year.describe())\n",
    "    visit = pd.DataFrame(data[attr].dt.year)\n",
    "  except:\n",
    "    print(new_data[attr].describe())\n",
    "    visit = pd.DataFrame(data[attr])\n",
    "  \n",
    "  visit.plot.box()\n",
    "  plt.title(attr + ': box')\n",
    "  # plt.show()"
   ]
  },
  {
   "cell_type": "markdown",
   "id": "d3f68c2e",
   "metadata": {
    "id": "d3f68c2e",
    "papermill": {
     "duration": 0.023017,
     "end_time": "2023-03-27T05:53:45.199750",
     "exception": false,
     "start_time": "2023-03-27T05:53:45.176733",
     "status": "completed"
    },
    "tags": []
   },
   "source": [
    "### 相关关系填补"
   ]
  },
  {
   "cell_type": "code",
   "execution_count": 80,
   "id": "c273a26a",
   "metadata": {
    "colab": {
     "base_uri": "https://localhost:8080/",
     "height": 175
    },
    "execution": {
     "iopub.execute_input": "2023-03-27T05:53:45.245512Z",
     "iopub.status.busy": "2023-03-27T05:53:45.244896Z",
     "iopub.status.idle": "2023-03-27T05:53:45.260516Z",
     "shell.execute_reply": "2023-03-27T05:53:45.259149Z"
    },
    "id": "c273a26a",
    "outputId": "893935f2-a7be-4ec3-eac6-86dad6c9a2cd",
    "papermill": {
     "duration": 0.041168,
     "end_time": "2023-03-27T05:53:45.263083",
     "exception": false,
     "start_time": "2023-03-27T05:53:45.221915",
     "status": "completed"
    },
    "tags": []
   },
   "outputs": [
    {
     "data": {
      "text/html": [
       "\n",
       "  <div id=\"df-5132c04c-d654-477a-8252-6dbb29992453\">\n",
       "    <div class=\"colab-df-container\">\n",
       "      <div>\n",
       "<style scoped>\n",
       "    .dataframe tbody tr th:only-of-type {\n",
       "        vertical-align: middle;\n",
       "    }\n",
       "\n",
       "    .dataframe tbody tr th {\n",
       "        vertical-align: top;\n",
       "    }\n",
       "\n",
       "    .dataframe thead th {\n",
       "        text-align: right;\n",
       "    }\n",
       "</style>\n",
       "<table border=\"1\" class=\"dataframe\">\n",
       "  <thead>\n",
       "    <tr style=\"text-align: right;\">\n",
       "      <th></th>\n",
       "      <th>imdb_rating</th>\n",
       "      <th>downloads</th>\n",
       "      <th>run_time</th>\n",
       "      <th>views</th>\n",
       "    </tr>\n",
       "  </thead>\n",
       "  <tbody>\n",
       "    <tr>\n",
       "      <th>imdb_rating</th>\n",
       "      <td>1.00</td>\n",
       "      <td>0.08</td>\n",
       "      <td>0.33</td>\n",
       "      <td>0.07</td>\n",
       "    </tr>\n",
       "    <tr>\n",
       "      <th>downloads</th>\n",
       "      <td>0.08</td>\n",
       "      <td>1.00</td>\n",
       "      <td>0.35</td>\n",
       "      <td>0.95</td>\n",
       "    </tr>\n",
       "    <tr>\n",
       "      <th>run_time</th>\n",
       "      <td>0.33</td>\n",
       "      <td>0.35</td>\n",
       "      <td>1.00</td>\n",
       "      <td>0.33</td>\n",
       "    </tr>\n",
       "    <tr>\n",
       "      <th>views</th>\n",
       "      <td>0.07</td>\n",
       "      <td>0.95</td>\n",
       "      <td>0.33</td>\n",
       "      <td>1.00</td>\n",
       "    </tr>\n",
       "  </tbody>\n",
       "</table>\n",
       "</div>\n",
       "      <button class=\"colab-df-convert\" onclick=\"convertToInteractive('df-5132c04c-d654-477a-8252-6dbb29992453')\"\n",
       "              title=\"Convert this dataframe to an interactive table.\"\n",
       "              style=\"display:none;\">\n",
       "        \n",
       "  <svg xmlns=\"http://www.w3.org/2000/svg\" height=\"24px\"viewBox=\"0 0 24 24\"\n",
       "       width=\"24px\">\n",
       "    <path d=\"M0 0h24v24H0V0z\" fill=\"none\"/>\n",
       "    <path d=\"M18.56 5.44l.94 2.06.94-2.06 2.06-.94-2.06-.94-.94-2.06-.94 2.06-2.06.94zm-11 1L8.5 8.5l.94-2.06 2.06-.94-2.06-.94L8.5 2.5l-.94 2.06-2.06.94zm10 10l.94 2.06.94-2.06 2.06-.94-2.06-.94-.94-2.06-.94 2.06-2.06.94z\"/><path d=\"M17.41 7.96l-1.37-1.37c-.4-.4-.92-.59-1.43-.59-.52 0-1.04.2-1.43.59L10.3 9.45l-7.72 7.72c-.78.78-.78 2.05 0 2.83L4 21.41c.39.39.9.59 1.41.59.51 0 1.02-.2 1.41-.59l7.78-7.78 2.81-2.81c.8-.78.8-2.07 0-2.86zM5.41 20L4 18.59l7.72-7.72 1.47 1.35L5.41 20z\"/>\n",
       "  </svg>\n",
       "      </button>\n",
       "      \n",
       "  <style>\n",
       "    .colab-df-container {\n",
       "      display:flex;\n",
       "      flex-wrap:wrap;\n",
       "      gap: 12px;\n",
       "    }\n",
       "\n",
       "    .colab-df-convert {\n",
       "      background-color: #E8F0FE;\n",
       "      border: none;\n",
       "      border-radius: 50%;\n",
       "      cursor: pointer;\n",
       "      display: none;\n",
       "      fill: #1967D2;\n",
       "      height: 32px;\n",
       "      padding: 0 0 0 0;\n",
       "      width: 32px;\n",
       "    }\n",
       "\n",
       "    .colab-df-convert:hover {\n",
       "      background-color: #E2EBFA;\n",
       "      box-shadow: 0px 1px 2px rgba(60, 64, 67, 0.3), 0px 1px 3px 1px rgba(60, 64, 67, 0.15);\n",
       "      fill: #174EA6;\n",
       "    }\n",
       "\n",
       "    [theme=dark] .colab-df-convert {\n",
       "      background-color: #3B4455;\n",
       "      fill: #D2E3FC;\n",
       "    }\n",
       "\n",
       "    [theme=dark] .colab-df-convert:hover {\n",
       "      background-color: #434B5C;\n",
       "      box-shadow: 0px 1px 3px 1px rgba(0, 0, 0, 0.15);\n",
       "      filter: drop-shadow(0px 1px 2px rgba(0, 0, 0, 0.3));\n",
       "      fill: #FFFFFF;\n",
       "    }\n",
       "  </style>\n",
       "\n",
       "      <script>\n",
       "        const buttonEl =\n",
       "          document.querySelector('#df-5132c04c-d654-477a-8252-6dbb29992453 button.colab-df-convert');\n",
       "        buttonEl.style.display =\n",
       "          google.colab.kernel.accessAllowed ? 'block' : 'none';\n",
       "\n",
       "        async function convertToInteractive(key) {\n",
       "          const element = document.querySelector('#df-5132c04c-d654-477a-8252-6dbb29992453');\n",
       "          const dataTable =\n",
       "            await google.colab.kernel.invokeFunction('convertToInteractive',\n",
       "                                                     [key], {});\n",
       "          if (!dataTable) return;\n",
       "\n",
       "          const docLinkHtml = 'Like what you see? Visit the ' +\n",
       "            '<a target=\"_blank\" href=https://colab.research.google.com/notebooks/data_table.ipynb>data table notebook</a>'\n",
       "            + ' to learn more about interactive tables.';\n",
       "          element.innerHTML = '';\n",
       "          dataTable['output_type'] = 'display_data';\n",
       "          await google.colab.output.renderOutput(dataTable, element);\n",
       "          const docLink = document.createElement('div');\n",
       "          docLink.innerHTML = docLinkHtml;\n",
       "          element.appendChild(docLink);\n",
       "        }\n",
       "      </script>\n",
       "    </div>\n",
       "  </div>\n",
       "  "
      ],
      "text/plain": [
       "             imdb_rating  downloads  run_time  views\n",
       "imdb_rating         1.00       0.08      0.33   0.07\n",
       "downloads           0.08       1.00      0.35   0.95\n",
       "run_time            0.33       0.35      1.00   0.33\n",
       "views               0.07       0.95      0.33   1.00"
      ]
     },
     "execution_count": 80,
     "metadata": {},
     "output_type": "execute_result"
    }
   ],
   "source": [
    "new_data = data.copy(deep=True)\n",
    "corr_matrix = new_data.corr()\n",
    "corr_matrix"
   ]
  },
  {
   "cell_type": "markdown",
   "id": "40688a0f",
   "metadata": {
    "id": "40688a0f",
    "papermill": {
     "duration": 0.021601,
     "end_time": "2023-03-27T05:53:45.307165",
     "exception": false,
     "start_time": "2023-03-27T05:53:45.285564",
     "status": "completed"
    },
    "tags": []
   },
   "source": [
    "#### 虽然downloads与view呈现高相关性 但数据集中缺失downloads的数据也同时缺失views(仅一条 index 149)\n",
    "#### 此外imdb_rating的缺失都伴随着run_time download的缺失 同时views数据与其不存在明显的关系 因此无法利用此方法填补缺失值\n",
    "#### 对于run_time数据缺失使用downloads预测\n",
    "#### 使用随机森林算法"
   ]
  },
  {
   "cell_type": "code",
   "execution_count": 81,
   "id": "774fe2dc",
   "metadata": {
    "colab": {
     "base_uri": "https://localhost:8080/",
     "height": 1165
    },
    "execution": {
     "iopub.execute_input": "2023-03-27T05:53:45.353714Z",
     "iopub.status.busy": "2023-03-27T05:53:45.353090Z",
     "iopub.status.idle": "2023-03-27T05:53:47.015501Z",
     "shell.execute_reply": "2023-03-27T05:53:47.014156Z"
    },
    "id": "774fe2dc",
    "outputId": "2c721a43-1884-4974-842d-0716da2ea23b",
    "papermill": {
     "duration": 1.688284,
     "end_time": "2023-03-27T05:53:47.017646",
     "exception": false,
     "start_time": "2023-03-27T05:53:45.329362",
     "status": "completed"
    },
    "tags": []
   },
   "outputs": [
    {
     "data": {
      "text/html": [
       "\n",
       "  <div id=\"df-6fce29e8-2544-4d38-8bb1-df75557226d9\">\n",
       "    <div class=\"colab-df-container\">\n",
       "      <div>\n",
       "<style scoped>\n",
       "    .dataframe tbody tr th:only-of-type {\n",
       "        vertical-align: middle;\n",
       "    }\n",
       "\n",
       "    .dataframe tbody tr th {\n",
       "        vertical-align: top;\n",
       "    }\n",
       "\n",
       "    .dataframe thead th {\n",
       "        text-align: right;\n",
       "    }\n",
       "</style>\n",
       "<table border=\"1\" class=\"dataframe\">\n",
       "  <thead>\n",
       "    <tr style=\"text-align: right;\">\n",
       "      <th></th>\n",
       "      <th>imdb_rating</th>\n",
       "      <th>appropriate_for</th>\n",
       "      <th>director</th>\n",
       "      <th>downloads</th>\n",
       "      <th>id</th>\n",
       "      <th>industry</th>\n",
       "      <th>language</th>\n",
       "      <th>posted_date</th>\n",
       "      <th>release_date</th>\n",
       "      <th>run_time</th>\n",
       "      <th>storyline</th>\n",
       "      <th>title</th>\n",
       "      <th>views</th>\n",
       "      <th>writer</th>\n",
       "      <th>old_posted_date</th>\n",
       "      <th>old_release_date</th>\n",
       "    </tr>\n",
       "  </thead>\n",
       "  <tbody>\n",
       "    <tr>\n",
       "      <th>0</th>\n",
       "      <td>4.80</td>\n",
       "      <td>R</td>\n",
       "      <td>John Swab</td>\n",
       "      <td>304.00</td>\n",
       "      <td>372092</td>\n",
       "      <td>Hollywood / English</td>\n",
       "      <td>English</td>\n",
       "      <td>2023-02-20</td>\n",
       "      <td>2023-01-28</td>\n",
       "      <td>105.00</td>\n",
       "      <td>Doc\\r\\n facilitates a fragile truce between th...</td>\n",
       "      <td>Little Dixie</td>\n",
       "      <td>2794.00</td>\n",
       "      <td>John Swab</td>\n",
       "      <td>20 Feb, 2023</td>\n",
       "      <td>Jan 28 2023</td>\n",
       "    </tr>\n",
       "    <tr>\n",
       "      <th>1</th>\n",
       "      <td>6.40</td>\n",
       "      <td>TV-PG</td>\n",
       "      <td>Paul Ziller</td>\n",
       "      <td>73.00</td>\n",
       "      <td>372091</td>\n",
       "      <td>Hollywood / English</td>\n",
       "      <td>English</td>\n",
       "      <td>2023-02-20</td>\n",
       "      <td>2023-02-05</td>\n",
       "      <td>84.00</td>\n",
       "      <td>Caterer\\r\\n Goldy Berry reunites with detectiv...</td>\n",
       "      <td>Grilling Season: A Curious Caterer Mystery</td>\n",
       "      <td>1002.00</td>\n",
       "      <td>John Christian Plummer</td>\n",
       "      <td>20 Feb, 2023</td>\n",
       "      <td>Feb 05 2023</td>\n",
       "    </tr>\n",
       "    <tr>\n",
       "      <th>2</th>\n",
       "      <td>5.20</td>\n",
       "      <td>R</td>\n",
       "      <td>Ben Wheatley</td>\n",
       "      <td>1427.00</td>\n",
       "      <td>343381</td>\n",
       "      <td>Hollywood / English</td>\n",
       "      <td>English,Hindi</td>\n",
       "      <td>2021-04-20</td>\n",
       "      <td>2021-06-18</td>\n",
       "      <td>107.00</td>\n",
       "      <td>As the world searches for a cure to a disastro...</td>\n",
       "      <td>In the Earth</td>\n",
       "      <td>14419.00</td>\n",
       "      <td>Ben Wheatley</td>\n",
       "      <td>20 Apr, 2021</td>\n",
       "      <td>Jun 18 2021</td>\n",
       "    </tr>\n",
       "    <tr>\n",
       "      <th>3</th>\n",
       "      <td>8.10</td>\n",
       "      <td>NaN</td>\n",
       "      <td>Venky Atluri</td>\n",
       "      <td>1549.00</td>\n",
       "      <td>372090</td>\n",
       "      <td>Tollywood</td>\n",
       "      <td>Hindi</td>\n",
       "      <td>2023-02-20</td>\n",
       "      <td>2023-02-17</td>\n",
       "      <td>139.00</td>\n",
       "      <td>The life of a young man and his struggles agai...</td>\n",
       "      <td>Vaathi</td>\n",
       "      <td>4878.00</td>\n",
       "      <td>Venky Atluri</td>\n",
       "      <td>20 Feb, 2023</td>\n",
       "      <td>Feb 17 2023</td>\n",
       "    </tr>\n",
       "    <tr>\n",
       "      <th>4</th>\n",
       "      <td>4.60</td>\n",
       "      <td>NaN</td>\n",
       "      <td>Shaji Kailas</td>\n",
       "      <td>657.00</td>\n",
       "      <td>372089</td>\n",
       "      <td>Tollywood</td>\n",
       "      <td>Hindi</td>\n",
       "      <td>2023-02-20</td>\n",
       "      <td>2023-01-26</td>\n",
       "      <td>122.00</td>\n",
       "      <td>A man named Kalidas gets stranded due to the p...</td>\n",
       "      <td>Alone</td>\n",
       "      <td>2438.00</td>\n",
       "      <td>Rajesh Jayaraman</td>\n",
       "      <td>20 Feb, 2023</td>\n",
       "      <td>Jan 26 2023</td>\n",
       "    </tr>\n",
       "    <tr>\n",
       "      <th>...</th>\n",
       "      <td>...</td>\n",
       "      <td>...</td>\n",
       "      <td>...</td>\n",
       "      <td>...</td>\n",
       "      <td>...</td>\n",
       "      <td>...</td>\n",
       "      <td>...</td>\n",
       "      <td>...</td>\n",
       "      <td>...</td>\n",
       "      <td>...</td>\n",
       "      <td>...</td>\n",
       "      <td>...</td>\n",
       "      <td>...</td>\n",
       "      <td>...</td>\n",
       "      <td>...</td>\n",
       "      <td>...</td>\n",
       "    </tr>\n",
       "    <tr>\n",
       "      <th>20543</th>\n",
       "      <td>NaN</td>\n",
       "      <td>NaN</td>\n",
       "      <td>NaN</td>\n",
       "      <td>1998.00</td>\n",
       "      <td>28957</td>\n",
       "      <td>Bollywood / Indian</td>\n",
       "      <td>Hindi</td>\n",
       "      <td>1970-01-01</td>\n",
       "      <td>1959-03-13</td>\n",
       "      <td>119596.30</td>\n",
       "      <td>NaN</td>\n",
       "      <td>Bhai-Bahen</td>\n",
       "      <td>6219.00</td>\n",
       "      <td>NaN</td>\n",
       "      <td>01 Jan, 1970</td>\n",
       "      <td>Mar 13 1959</td>\n",
       "    </tr>\n",
       "    <tr>\n",
       "      <th>20544</th>\n",
       "      <td>7.70</td>\n",
       "      <td>NaN</td>\n",
       "      <td>Bimal Roy</td>\n",
       "      <td>6080.00</td>\n",
       "      <td>28958</td>\n",
       "      <td>Bollywood / Indian</td>\n",
       "      <td>Hindi</td>\n",
       "      <td>1970-01-01</td>\n",
       "      <td>1955-05-13</td>\n",
       "      <td>159.00</td>\n",
       "      <td>Devdas and Parvati had been inseparable as chi...</td>\n",
       "      <td>Devdas</td>\n",
       "      <td>16376.00</td>\n",
       "      <td>Rajinder Singh Bedi, Saratchandra Chatterjee, ...</td>\n",
       "      <td>01 Jan, 1970</td>\n",
       "      <td>May 13 1955</td>\n",
       "    </tr>\n",
       "    <tr>\n",
       "      <th>20545</th>\n",
       "      <td>8.00</td>\n",
       "      <td>NaN</td>\n",
       "      <td>NaN</td>\n",
       "      <td>3276.00</td>\n",
       "      <td>30459</td>\n",
       "      <td>Bollywood / Indian</td>\n",
       "      <td>Hindi</td>\n",
       "      <td>1970-01-01</td>\n",
       "      <td>1958-03-28</td>\n",
       "      <td>110.00</td>\n",
       "      <td>While driving his car on a rainy night, Anand'...</td>\n",
       "      <td>Madhumati</td>\n",
       "      <td>7220.00</td>\n",
       "      <td>NaN</td>\n",
       "      <td>01 Jan, 1970</td>\n",
       "      <td>Mar 28 1958</td>\n",
       "    </tr>\n",
       "    <tr>\n",
       "      <th>20546</th>\n",
       "      <td>NaN</td>\n",
       "      <td>NaN</td>\n",
       "      <td>NaN</td>\n",
       "      <td>309.00</td>\n",
       "      <td>371669</td>\n",
       "      <td>Wrestling</td>\n",
       "      <td>English</td>\n",
       "      <td>2023-02-10</td>\n",
       "      <td>2023-02-09</td>\n",
       "      <td>119596.30</td>\n",
       "      <td>NaN</td>\n",
       "      <td>TNA.Impact 2023-02-09</td>\n",
       "      <td>1419.00</td>\n",
       "      <td>NaN</td>\n",
       "      <td>10 Feb, 2023</td>\n",
       "      <td>Feb 09 2023</td>\n",
       "    </tr>\n",
       "    <tr>\n",
       "      <th>20547</th>\n",
       "      <td>NaN</td>\n",
       "      <td>NaN</td>\n",
       "      <td>NaN</td>\n",
       "      <td>2613.00</td>\n",
       "      <td>371816</td>\n",
       "      <td>Wrestling</td>\n",
       "      <td>English</td>\n",
       "      <td>2023-02-14</td>\n",
       "      <td>2023-02-13</td>\n",
       "      <td>119596.30</td>\n",
       "      <td>NaN</td>\n",
       "      <td>WWE Raw 2023-02-13</td>\n",
       "      <td>6697.00</td>\n",
       "      <td>NaN</td>\n",
       "      <td>14 Feb, 2023</td>\n",
       "      <td>Feb 13 2023</td>\n",
       "    </tr>\n",
       "  </tbody>\n",
       "</table>\n",
       "<p>20548 rows × 16 columns</p>\n",
       "</div>\n",
       "      <button class=\"colab-df-convert\" onclick=\"convertToInteractive('df-6fce29e8-2544-4d38-8bb1-df75557226d9')\"\n",
       "              title=\"Convert this dataframe to an interactive table.\"\n",
       "              style=\"display:none;\">\n",
       "        \n",
       "  <svg xmlns=\"http://www.w3.org/2000/svg\" height=\"24px\"viewBox=\"0 0 24 24\"\n",
       "       width=\"24px\">\n",
       "    <path d=\"M0 0h24v24H0V0z\" fill=\"none\"/>\n",
       "    <path d=\"M18.56 5.44l.94 2.06.94-2.06 2.06-.94-2.06-.94-.94-2.06-.94 2.06-2.06.94zm-11 1L8.5 8.5l.94-2.06 2.06-.94-2.06-.94L8.5 2.5l-.94 2.06-2.06.94zm10 10l.94 2.06.94-2.06 2.06-.94-2.06-.94-.94-2.06-.94 2.06-2.06.94z\"/><path d=\"M17.41 7.96l-1.37-1.37c-.4-.4-.92-.59-1.43-.59-.52 0-1.04.2-1.43.59L10.3 9.45l-7.72 7.72c-.78.78-.78 2.05 0 2.83L4 21.41c.39.39.9.59 1.41.59.51 0 1.02-.2 1.41-.59l7.78-7.78 2.81-2.81c.8-.78.8-2.07 0-2.86zM5.41 20L4 18.59l7.72-7.72 1.47 1.35L5.41 20z\"/>\n",
       "  </svg>\n",
       "      </button>\n",
       "      \n",
       "  <style>\n",
       "    .colab-df-container {\n",
       "      display:flex;\n",
       "      flex-wrap:wrap;\n",
       "      gap: 12px;\n",
       "    }\n",
       "\n",
       "    .colab-df-convert {\n",
       "      background-color: #E8F0FE;\n",
       "      border: none;\n",
       "      border-radius: 50%;\n",
       "      cursor: pointer;\n",
       "      display: none;\n",
       "      fill: #1967D2;\n",
       "      height: 32px;\n",
       "      padding: 0 0 0 0;\n",
       "      width: 32px;\n",
       "    }\n",
       "\n",
       "    .colab-df-convert:hover {\n",
       "      background-color: #E2EBFA;\n",
       "      box-shadow: 0px 1px 2px rgba(60, 64, 67, 0.3), 0px 1px 3px 1px rgba(60, 64, 67, 0.15);\n",
       "      fill: #174EA6;\n",
       "    }\n",
       "\n",
       "    [theme=dark] .colab-df-convert {\n",
       "      background-color: #3B4455;\n",
       "      fill: #D2E3FC;\n",
       "    }\n",
       "\n",
       "    [theme=dark] .colab-df-convert:hover {\n",
       "      background-color: #434B5C;\n",
       "      box-shadow: 0px 1px 3px 1px rgba(0, 0, 0, 0.15);\n",
       "      filter: drop-shadow(0px 1px 2px rgba(0, 0, 0, 0.3));\n",
       "      fill: #FFFFFF;\n",
       "    }\n",
       "  </style>\n",
       "\n",
       "      <script>\n",
       "        const buttonEl =\n",
       "          document.querySelector('#df-6fce29e8-2544-4d38-8bb1-df75557226d9 button.colab-df-convert');\n",
       "        buttonEl.style.display =\n",
       "          google.colab.kernel.accessAllowed ? 'block' : 'none';\n",
       "\n",
       "        async function convertToInteractive(key) {\n",
       "          const element = document.querySelector('#df-6fce29e8-2544-4d38-8bb1-df75557226d9');\n",
       "          const dataTable =\n",
       "            await google.colab.kernel.invokeFunction('convertToInteractive',\n",
       "                                                     [key], {});\n",
       "          if (!dataTable) return;\n",
       "\n",
       "          const docLinkHtml = 'Like what you see? Visit the ' +\n",
       "            '<a target=\"_blank\" href=https://colab.research.google.com/notebooks/data_table.ipynb>data table notebook</a>'\n",
       "            + ' to learn more about interactive tables.';\n",
       "          element.innerHTML = '';\n",
       "          dataTable['output_type'] = 'display_data';\n",
       "          await google.colab.output.renderOutput(dataTable, element);\n",
       "          const docLink = document.createElement('div');\n",
       "          docLink.innerHTML = docLinkHtml;\n",
       "          element.appendChild(docLink);\n",
       "        }\n",
       "      </script>\n",
       "    </div>\n",
       "  </div>\n",
       "  "
      ],
      "text/plain": [
       "       imdb_rating appropriate_for      director  downloads      id  \\\n",
       "0             4.80               R     John Swab     304.00  372092   \n",
       "1             6.40           TV-PG   Paul Ziller      73.00  372091   \n",
       "2             5.20               R  Ben Wheatley    1427.00  343381   \n",
       "3             8.10             NaN  Venky Atluri    1549.00  372090   \n",
       "4             4.60             NaN  Shaji Kailas     657.00  372089   \n",
       "...            ...             ...           ...        ...     ...   \n",
       "20543          NaN             NaN           NaN    1998.00   28957   \n",
       "20544         7.70             NaN     Bimal Roy    6080.00   28958   \n",
       "20545         8.00             NaN           NaN    3276.00   30459   \n",
       "20546          NaN             NaN           NaN     309.00  371669   \n",
       "20547          NaN             NaN           NaN    2613.00  371816   \n",
       "\n",
       "                  industry       language posted_date release_date  run_time  \\\n",
       "0      Hollywood / English        English  2023-02-20   2023-01-28    105.00   \n",
       "1      Hollywood / English        English  2023-02-20   2023-02-05     84.00   \n",
       "2      Hollywood / English  English,Hindi  2021-04-20   2021-06-18    107.00   \n",
       "3                Tollywood          Hindi  2023-02-20   2023-02-17    139.00   \n",
       "4                Tollywood          Hindi  2023-02-20   2023-01-26    122.00   \n",
       "...                    ...            ...         ...          ...       ...   \n",
       "20543   Bollywood / Indian          Hindi  1970-01-01   1959-03-13 119596.30   \n",
       "20544   Bollywood / Indian          Hindi  1970-01-01   1955-05-13    159.00   \n",
       "20545   Bollywood / Indian          Hindi  1970-01-01   1958-03-28    110.00   \n",
       "20546            Wrestling        English  2023-02-10   2023-02-09 119596.30   \n",
       "20547            Wrestling        English  2023-02-14   2023-02-13 119596.30   \n",
       "\n",
       "                                               storyline  \\\n",
       "0      Doc\\r\\n facilitates a fragile truce between th...   \n",
       "1      Caterer\\r\\n Goldy Berry reunites with detectiv...   \n",
       "2      As the world searches for a cure to a disastro...   \n",
       "3      The life of a young man and his struggles agai...   \n",
       "4      A man named Kalidas gets stranded due to the p...   \n",
       "...                                                  ...   \n",
       "20543                                                NaN   \n",
       "20544  Devdas and Parvati had been inseparable as chi...   \n",
       "20545  While driving his car on a rainy night, Anand'...   \n",
       "20546                                                NaN   \n",
       "20547                                                NaN   \n",
       "\n",
       "                                            title    views  \\\n",
       "0                                    Little Dixie  2794.00   \n",
       "1      Grilling Season: A Curious Caterer Mystery  1002.00   \n",
       "2                                    In the Earth 14419.00   \n",
       "3                                          Vaathi  4878.00   \n",
       "4                                           Alone  2438.00   \n",
       "...                                           ...      ...   \n",
       "20543                                  Bhai-Bahen  6219.00   \n",
       "20544                                      Devdas 16376.00   \n",
       "20545                                   Madhumati  7220.00   \n",
       "20546                       TNA.Impact 2023-02-09  1419.00   \n",
       "20547                          WWE Raw 2023-02-13  6697.00   \n",
       "\n",
       "                                                  writer old_posted_date  \\\n",
       "0                                              John Swab    20 Feb, 2023   \n",
       "1                                 John Christian Plummer    20 Feb, 2023   \n",
       "2                                           Ben Wheatley    20 Apr, 2021   \n",
       "3                                           Venky Atluri    20 Feb, 2023   \n",
       "4                                       Rajesh Jayaraman    20 Feb, 2023   \n",
       "...                                                  ...             ...   \n",
       "20543                                                NaN    01 Jan, 1970   \n",
       "20544  Rajinder Singh Bedi, Saratchandra Chatterjee, ...    01 Jan, 1970   \n",
       "20545                                                NaN    01 Jan, 1970   \n",
       "20546                                                NaN    10 Feb, 2023   \n",
       "20547                                                NaN    14 Feb, 2023   \n",
       "\n",
       "      old_release_date  \n",
       "0          Jan 28 2023  \n",
       "1          Feb 05 2023  \n",
       "2          Jun 18 2021  \n",
       "3          Feb 17 2023  \n",
       "4          Jan 26 2023  \n",
       "...                ...  \n",
       "20543      Mar 13 1959  \n",
       "20544      May 13 1955  \n",
       "20545      Mar 28 1958  \n",
       "20546      Feb 09 2023  \n",
       "20547      Feb 13 2023  \n",
       "\n",
       "[20548 rows x 16 columns]"
      ]
     },
     "execution_count": 81,
     "metadata": {},
     "output_type": "execute_result"
    }
   ],
   "source": [
    "from sklearn.ensemble import RandomForestRegressor\n",
    "data_map = new_data[['run_time', 'downloads']].dropna()\n",
    "rfr_1 = RandomForestRegressor(random_state=0, n_estimators=200,  n_jobs=-1)\n",
    "matrix = data_map.values\n",
    "X = matrix[:, 0].reshape(-1,1)\n",
    "y = matrix[:, 1]\n",
    "rfr_1.fit(X, y)\n",
    "data_map = new_data[['run_time', 'downloads']].dropna(subset=['downloads'])\n",
    "X = data_map[data_map.run_time.isnull()].values[:, 1].reshape(-1, 1)\n",
    "prediction = rfr_1.predict(X)\n",
    "new_data.loc[(new_data['run_time'].isna() & new_data['downloads'].notna()), 'run_time'] = prediction\n",
    "\n",
    "new_data"
   ]
  },
  {
   "cell_type": "markdown",
   "id": "9f068442",
   "metadata": {
    "id": "9f068442",
    "papermill": {
     "duration": 0.022777,
     "end_time": "2023-03-27T05:53:47.063630",
     "exception": false,
     "start_time": "2023-03-27T05:53:47.040853",
     "status": "completed"
    },
    "tags": []
   },
   "source": [
    "#### 标称属性变化"
   ]
  },
  {
   "cell_type": "code",
   "execution_count": 82,
   "id": "86e5aaa7",
   "metadata": {
    "colab": {
     "base_uri": "https://localhost:8080/",
     "height": 790
    },
    "execution": {
     "iopub.execute_input": "2023-03-27T05:53:47.111017Z",
     "iopub.status.busy": "2023-03-27T05:53:47.110441Z",
     "iopub.status.idle": "2023-03-27T05:53:47.882456Z",
     "shell.execute_reply": "2023-03-27T05:53:47.881787Z"
    },
    "id": "86e5aaa7",
    "outputId": "341877ca-d934-46be-ec23-f5fb50c2e488",
    "papermill": {
     "duration": 0.797853,
     "end_time": "2023-03-27T05:53:47.884635",
     "exception": false,
     "start_time": "2023-03-27T05:53:47.086782",
     "status": "completed"
    },
    "tags": []
   },
   "outputs": [
    {
     "data": {
      "image/png": "[encoded data removed]",
      "text/plain": [
       "<Figure size 800x800 with 5 Axes>"
      ]
     },
     "metadata": {
      "needs_background": "light"
     },
     "output_type": "display_data"
    }
   ],
   "source": [
    "index = 1\n",
    "plt.figure(figsize=(10,10), dpi=80).subplots_adjust(hspace=1)\n",
    "plt.figure(1)\n",
    "col = 2\n",
    "row = int(len(nominals) / col) + 1\n",
    "for attr in nominals:\n",
    "    plt.subplot(row, col, index)\n",
    "    index += 1\n",
    "    freq = 10\n",
    "    new_data[attr].value_counts().head(freq).plot.bar()\n",
    "    plt.title(f'{attr}: frequency of top {freq}')"
   ]
  },
  {
   "cell_type": "markdown",
   "id": "643a54d0",
   "metadata": {
    "id": "643a54d0",
    "papermill": {
     "duration": 0.02468,
     "end_time": "2023-03-27T05:53:47.934501",
     "exception": false,
     "start_time": "2023-03-27T05:53:47.909821",
     "status": "completed"
    },
    "tags": []
   },
   "source": [
    "#### 数值属性变化"
   ]
  },
  {
   "cell_type": "code",
   "execution_count": 89,
   "id": "8d30cc40",
   "metadata": {
    "colab": {
     "base_uri": "https://localhost:8080/",
     "height": 1000
    },
    "execution": {
     "iopub.execute_input": "2023-03-27T05:53:47.985642Z",
     "iopub.status.busy": "2023-03-27T05:53:47.985010Z",
     "iopub.status.idle": "2023-03-27T05:53:48.777379Z",
     "shell.execute_reply": "2023-03-27T05:53:48.776557Z"
    },
    "id": "8d30cc40",
    "outputId": "2c33ad85-815f-46e8-c4ae-750b3d74c8bd",
    "papermill": {
     "duration": 0.820837,
     "end_time": "2023-03-27T05:53:48.779791",
     "exception": false,
     "start_time": "2023-03-27T05:53:47.958954",
     "status": "completed"
    },
    "tags": []
   },
   "outputs": [
    {
     "name": "stdout",
     "output_type": "stream",
     "text": [
      "release_date\n",
      "count   20547.00\n",
      "mean     2013.70\n",
      "std        12.77\n",
      "min      1921.00\n",
      "25%      2013.00\n",
      "50%      2017.00\n",
      "75%      2021.00\n",
      "max      2023.00\n",
      "Name: release_date, dtype: float64\n",
      "posted_date\n",
      "count   20547.00\n",
      "mean     2017.00\n",
      "std         6.10\n",
      "min      1970.00\n",
      "25%      2014.00\n",
      "50%      2018.00\n",
      "75%      2022.00\n",
      "max      2023.00\n",
      "Name: posted_date, dtype: float64\n",
      "imdb_rating\n",
      "count   20548.00\n",
      "mean        5.76\n",
      "std         1.35\n",
      "min         1.10\n",
      "25%         4.90\n",
      "50%         5.76\n",
      "75%         6.60\n",
      "max         9.90\n",
      "Name: imdb_rating, dtype: float64\n",
      "downloads\n",
      "count    20548.00\n",
      "mean     10795.23\n",
      "std      23715.60\n",
      "min          0.00\n",
      "25%        855.75\n",
      "50%       2716.00\n",
      "75%      10073.25\n",
      "max     391272.00\n",
      "Name: downloads, dtype: float64\n",
      "run_time\n",
      "count   20548.00\n",
      "mean      106.14\n",
      "std        22.92\n",
      "min         2.00\n",
      "25%        90.00\n",
      "50%       101.00\n",
      "75%       116.00\n",
      "max       321.00\n",
      "Name: run_time, dtype: float64\n",
      "views\n",
      "count     20548.00\n",
      "mean      35595.51\n",
      "std       62470.90\n",
      "min         667.00\n",
      "25%        7571.75\n",
      "50%       15222.50\n",
      "75%       36569.50\n",
      "max     1638533.00\n",
      "Name: views, dtype: float64\n"
     ]
    },
    {
     "data": {
      "image/png": "[encoded data removed]",
      "text/plain": [
       "<Figure size 432x288 with 1 Axes>"
      ]
     },
     "metadata": {
      "needs_background": "light"
     },
     "output_type": "display_data"
    },
    {
     "data": {
      "image/png": "[encoded data removed]",
      "text/plain": [
       "<Figure size 432x288 with 1 Axes>"
      ]
     },
     "metadata": {
      "needs_background": "light"
     },
     "output_type": "display_data"
    },
    {
     "data": {
      "image/png": "[encoded data removed]",
      "text/plain": [
       "<Figure size 432x288 with 1 Axes>"
      ]
     },
     "metadata": {
      "needs_background": "light"
     },
     "output_type": "display_data"
    },
    {
     "data": {
      "image/png": "[encoded data removed]",
      "text/plain": [
       "<Figure size 432x288 with 1 Axes>"
      ]
     },
     "metadata": {
      "needs_background": "light"
     },
     "output_type": "display_data"
    },
    {
     "data": {
      "image/png": "[encoded data removed]",
      "text/plain": [
       "<Figure size 432x288 with 1 Axes>"
      ]
     },
     "metadata": {
      "needs_background": "light"
     },
     "output_type": "display_data"
    },
    {
     "data": {
      "image/png": "[encoded data removed]",
      "text/plain": [
       "<Figure size 432x288 with 1 Axes>"
      ]
     },
     "metadata": {
      "needs_background": "light"
     },
     "output_type": "display_data"
    }
   ],
   "source": [
    "attrs = ['release_date', 'posted_date', 'imdb_rating', 'downloads', 'run_time', 'views']\n",
    "for attr in attrs:\n",
    "  print(attr)\n",
    "  try:\n",
    "    print(new_data[attr].dt.year.describe())\n",
    "    visit = pd.DataFrame(data[attr].dt.year)\n",
    "  except:\n",
    "    print(new_data[attr].describe())\n",
    "    visit = pd.DataFrame(data[attr])\n",
    "  \n",
    "  visit.plot.box()\n",
    "  plt.title(attr + ': box')\n",
    "  # plt.show()"
   ]
  },
  {
   "cell_type": "markdown",
   "id": "50cd39f4",
   "metadata": {
    "id": "50cd39f4",
    "papermill": {
     "duration": 0.026042,
     "end_time": "2023-03-27T05:53:48.838157",
     "exception": false,
     "start_time": "2023-03-27T05:53:48.812115",
     "status": "completed"
    },
    "tags": []
   },
   "source": [
    "### 基于相似性 \n",
    "#### 利用impyute工具 对几个数值属性进行填补"
   ]
  },
  {
   "cell_type": "code",
   "execution_count": 84,
   "id": "0ff0e6c2",
   "metadata": {
    "colab": {
     "base_uri": "https://localhost:8080/",
     "height": 0
    },
    "execution": {
     "iopub.execute_input": "2023-03-27T05:53:48.893335Z",
     "iopub.status.busy": "2023-03-27T05:53:48.892941Z",
     "iopub.status.idle": "2023-03-27T05:53:58.799012Z",
     "shell.execute_reply": "2023-03-27T05:53:58.797090Z"
    },
    "id": "0ff0e6c2",
    "outputId": "c2b29915-6aba-47ec-d015-955bc657e508",
    "papermill": {
     "duration": 9.937852,
     "end_time": "2023-03-27T05:53:58.802774",
     "exception": false,
     "start_time": "2023-03-27T05:53:48.864922",
     "status": "completed"
    },
    "tags": []
   },
   "outputs": [
    {
     "name": "stdout",
     "output_type": "stream",
     "text": [
      "Looking in indexes: https://pypi.org/simple, https://us-python.pkg.dev/colab-wheels/public/simple/\n",
      "Requirement already satisfied: impyute in /usr/local/lib/python3.9/dist-packages (0.0.8)\n",
      "Requirement already satisfied: scikit-learn in /usr/local/lib/python3.9/dist-packages (from impyute) (1.2.2)\n",
      "Requirement already satisfied: numpy in /usr/local/lib/python3.9/dist-packages (from impyute) (1.22.4)\n",
      "Requirement already satisfied: scipy in /usr/local/lib/python3.9/dist-packages (from impyute) (1.10.1)\n",
      "Requirement already satisfied: threadpoolctl>=2.0.0 in /usr/local/lib/python3.9/dist-packages (from scikit-learn->impyute) (3.1.0)\n",
      "Requirement already satisfied: joblib>=1.1.1 in /usr/local/lib/python3.9/dist-packages (from scikit-learn->impyute) (1.1.1)\n"
     ]
    }
   ],
   "source": [
    "# pip install impyute"
   ]
  },
  {
   "cell_type": "code",
   "execution_count": 85,
   "id": "b4c33bc9",
   "metadata": {
    "colab": {
     "base_uri": "https://localhost:8080/",
     "height": 0
    },
    "execution": {
     "iopub.execute_input": "2023-03-27T05:53:58.857597Z",
     "iopub.status.busy": "2023-03-27T05:53:58.857035Z",
     "iopub.status.idle": "2023-03-27T05:53:59.250403Z",
     "shell.execute_reply": "2023-03-27T05:53:59.249031Z"
    },
    "id": "b4c33bc9",
    "outputId": "1644b42a-e8cd-483a-9fa6-3e8ca4e337e8",
    "papermill": {
     "duration": 0.423852,
     "end_time": "2023-03-27T05:53:59.253063",
     "exception": false,
     "start_time": "2023-03-27T05:53:58.829211",
     "status": "completed"
    },
    "tags": []
   },
   "outputs": [
    {
     "data": {
      "text/plain": [
       "imdb_rating         False\n",
       "appropriate_for      True\n",
       "director             True\n",
       "downloads           False\n",
       "id                  False\n",
       "industry             True\n",
       "language             True\n",
       "posted_date          True\n",
       "release_date         True\n",
       "run_time            False\n",
       "storyline            True\n",
       "title                True\n",
       "views               False\n",
       "writer               True\n",
       "old_posted_date      True\n",
       "old_release_date     True\n",
       "dtype: bool"
      ]
     },
     "execution_count": 85,
     "metadata": {},
     "output_type": "execute_result"
    }
   ],
   "source": [
    "from impyute import fast_knn\n",
    "features = ['imdb_rating', 'views', 'downloads', 'run_time']\n",
    "new_data = data.copy(True)\n",
    "new_data[features] = pd.DataFrame(fast_knn(np.array(new_data[features]), k=2), columns=features)\n",
    "new_data.isnull().any()"
   ]
  },
  {
   "cell_type": "markdown",
   "id": "25216582",
   "metadata": {
    "id": "25216582",
    "papermill": {
     "duration": 0.02588,
     "end_time": "2023-03-27T05:53:59.305074",
     "exception": false,
     "start_time": "2023-03-27T05:53:59.279194",
     "status": "completed"
    },
    "tags": []
   },
   "source": [
    "#### 标称属性变化"
   ]
  },
  {
   "cell_type": "code",
   "execution_count": 86,
   "id": "b7c40bd1",
   "metadata": {
    "colab": {
     "base_uri": "https://localhost:8080/",
     "height": 790
    },
    "execution": {
     "iopub.execute_input": "2023-03-27T05:53:59.359452Z",
     "iopub.status.busy": "2023-03-27T05:53:59.359141Z",
     "iopub.status.idle": "2023-03-27T05:54:00.173742Z",
     "shell.execute_reply": "2023-03-27T05:54:00.172257Z"
    },
    "id": "b7c40bd1",
    "outputId": "32db50d0-8011-450a-ecf5-22f7c7b32f16",
    "papermill": {
     "duration": 0.845089,
     "end_time": "2023-03-27T05:54:00.176460",
     "exception": false,
     "start_time": "2023-03-27T05:53:59.331371",
     "status": "completed"
    },
    "tags": []
   },
   "outputs": [
    {
     "data": {
      "image/png": "[encoded data removed]",
      "text/plain": [
       "<Figure size 800x800 with 5 Axes>"
      ]
     },
     "metadata": {
      "needs_background": "light"
     },
     "output_type": "display_data"
    }
   ],
   "source": [
    "index = 1\n",
    "plt.figure(figsize=(10,10), dpi=80).subplots_adjust(hspace=1)\n",
    "plt.figure(1)\n",
    "col = 2\n",
    "row = int(len(nominals) / col) + 1\n",
    "for attr in nominals:\n",
    "    plt.subplot(row, col, index)\n",
    "    index += 1\n",
    "    freq = 10\n",
    "    new_data[attr].value_counts().head(freq).plot.bar()\n",
    "    plt.title(f'{attr}: frequency of top {freq}')"
   ]
  },
  {
   "cell_type": "markdown",
   "id": "5f2e0426",
   "metadata": {
    "id": "5f2e0426",
    "papermill": {
     "duration": 0.026768,
     "end_time": "2023-03-27T05:54:00.232199",
     "exception": false,
     "start_time": "2023-03-27T05:54:00.205431",
     "status": "completed"
    },
    "tags": []
   },
   "source": [
    "#### 数值属性变化"
   ]
  },
  {
   "cell_type": "code",
   "execution_count": 88,
   "id": "9cb66b6a",
   "metadata": {
    "colab": {
     "base_uri": "https://localhost:8080/",
     "height": 1000
    },
    "execution": {
     "iopub.execute_input": "2023-03-27T05:54:00.287438Z",
     "iopub.status.busy": "2023-03-27T05:54:00.287104Z",
     "iopub.status.idle": "2023-03-27T05:54:01.293495Z",
     "shell.execute_reply": "2023-03-27T05:54:01.292262Z"
    },
    "id": "9cb66b6a",
    "outputId": "97ac4b2c-86d4-4746-bff9-5cc49fb47054",
    "papermill": {
     "duration": 1.037611,
     "end_time": "2023-03-27T05:54:01.296471",
     "exception": false,
     "start_time": "2023-03-27T05:54:00.258860",
     "status": "completed"
    },
    "tags": []
   },
   "outputs": [
    {
     "name": "stdout",
     "output_type": "stream",
     "text": [
      "release_date\n",
      "count   20547.00\n",
      "mean     2013.70\n",
      "std        12.77\n",
      "min      1921.00\n",
      "25%      2013.00\n",
      "50%      2017.00\n",
      "75%      2021.00\n",
      "max      2023.00\n",
      "Name: release_date, dtype: float64\n",
      "posted_date\n",
      "count   20547.00\n",
      "mean     2017.00\n",
      "std         6.10\n",
      "min      1970.00\n",
      "25%      2014.00\n",
      "50%      2018.00\n",
      "75%      2022.00\n",
      "max      2023.00\n",
      "Name: posted_date, dtype: float64\n",
      "imdb_rating\n",
      "count   20548.00\n",
      "mean        5.76\n",
      "std         1.35\n",
      "min         1.10\n",
      "25%         4.90\n",
      "50%         5.76\n",
      "75%         6.60\n",
      "max         9.90\n",
      "Name: imdb_rating, dtype: float64\n",
      "downloads\n",
      "count    20548.00\n",
      "mean     10795.23\n",
      "std      23715.60\n",
      "min          0.00\n",
      "25%        855.75\n",
      "50%       2716.00\n",
      "75%      10073.25\n",
      "max     391272.00\n",
      "Name: downloads, dtype: float64\n",
      "run_time\n",
      "count   20548.00\n",
      "mean      106.14\n",
      "std        22.92\n",
      "min         2.00\n",
      "25%        90.00\n",
      "50%       101.00\n",
      "75%       116.00\n",
      "max       321.00\n",
      "Name: run_time, dtype: float64\n",
      "views\n",
      "count     20548.00\n",
      "mean      35595.51\n",
      "std       62470.90\n",
      "min         667.00\n",
      "25%        7571.75\n",
      "50%       15222.50\n",
      "75%       36569.50\n",
      "max     1638533.00\n",
      "Name: views, dtype: float64\n"
     ]
    },
    {
     "data": {
      "image/png": "[encoded data removed]",
      "text/plain": [
       "<Figure size 432x288 with 1 Axes>"
      ]
     },
     "metadata": {
      "needs_background": "light"
     },
     "output_type": "display_data"
    },
    {
     "data": {
      "image/png": "[encoded data removed]",
      "text/plain": [
       "<Figure size 432x288 with 1 Axes>"
      ]
     },
     "metadata": {
      "needs_background": "light"
     },
     "output_type": "display_data"
    },
    {
     "data": {
      "image/png": "[encoded data removed]",
      "text/plain": [
       "<Figure size 432x288 with 1 Axes>"
      ]
     },
     "metadata": {
      "needs_background": "light"
     },
     "output_type": "display_data"
    },
    {
     "data": {
      "image/png": "[encoded data removed]",
      "text/plain": [
       "<Figure size 432x288 with 1 Axes>"
      ]
     },
     "metadata": {
      "needs_background": "light"
     },
     "output_type": "display_data"
    },
    {
     "data": {
      "image/png": "[encoded data removed]",
      "text/plain": [
       "<Figure size 432x288 with 1 Axes>"
      ]
     },
     "metadata": {
      "needs_background": "light"
     },
     "output_type": "display_data"
    },
    {
     "data": {
      "image/png": "[encoded data removed]",
      "text/plain": [
       "<Figure size 432x288 with 1 Axes>"
      ]
     },
     "metadata": {
      "needs_background": "light"
     },
     "output_type": "display_data"
    }
   ],
   "source": [
    "attrs = ['release_date', 'posted_date', 'imdb_rating', 'downloads', 'run_time', 'views']\n",
    "for attr in attrs:\n",
    "  print(attr)\n",
    "  try:\n",
    "    print(new_data[attr].dt.year.describe())\n",
    "    visit = pd.DataFrame(data[attr].dt.year)\n",
    "  except:\n",
    "    print(new_data[attr].describe())\n",
    "    visit = pd.DataFrame(data[attr])\n",
    "  \n",
    "  visit.plot.box()\n",
    "  plt.title(attr + ': box')\n",
    "  # plt.show()"
   ]
  }
 ],
 "metadata": {
  "colab": {
   "provenance": []
  },
  "kernelspec": {
   "display_name": "Python 3 (ipykernel)",
   "language": "python",
   "name": "python3"
  },
  "language_info": {
   "codemirror_mode": {
    "name": "ipython",
    "version": 3
   },
   "file_extension": ".py",
   "mimetype": "text/x-python",
   "name": "python",
   "nbconvert_exporter": "python",
   "pygments_lexer": "ipython3",
   "version": "3.7.12"
  },
  "papermill": {
   "default_parameters": {},
   "duration": 34.53773,
   "end_time": "2023-03-27T05:54:02.156231",
   "environment_variables": {},
   "exception": null,
   "input_path": "__notebook__.ipynb",
   "output_path": "__notebook__.ipynb",
   "parameters": {},
   "start_time": "2023-03-27T05:53:27.618501",
   "version": "2.4.0"
  }
 },
 "nbformat": 4,
 "nbformat_minor": 5
}
